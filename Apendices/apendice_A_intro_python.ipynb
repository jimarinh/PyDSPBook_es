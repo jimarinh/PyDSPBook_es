{
 "cells": [
  {
   "cell_type": "markdown",
   "metadata": {},
   "source": [
    "# Apéndice A. Introducción a Python y NumPy"
   ]
  },
  {
   "cell_type": "markdown",
   "metadata": {},
   "source": [
    "Este apéndice ha sido creado como un libro interactivo donde aprenderá a crear programas básicos en **Python** y usar la biblioteca matemática **NumPy** que es usada ampliamente en álgebra lineal y para la generación de señales en tiempo discreto. Si está familiarizado con Matlab verá que muchos comando soportados por NumPy se asemejan a la sintaxis de dicho entorno de simulación, con algunas excepciones como los operadores de multiplicación.  \n",
    "\n",
    "Esta guía ha sido construida como un cuaderno de Python o _Jupiter Notebook_ el cual le permite ingresar celdas de texto (en un lenguaje llamado **Markdown**) o código interactivo en Python, las cuales puede ejecutar dando clic en el botón ▷. La Sección A.8 describe como crear dichos cuadernos."
   ]
  },
  {
   "cell_type": "markdown",
   "metadata": {},
   "source": [
    "# A.1. Instalación de bibliotecas"
   ]
  },
  {
   "cell_type": "markdown",
   "metadata": {},
   "source": [
    "Si es novato en Python debe saber que éste es un lenguaje interpretado que emplea bibliotecas para correr los programas. Aunque existe un gran número de bibliotecas, estás pueden instalarse fácilmente desde el Terminal del su sistema operativo empleando el comando ``pip install [Nombrebiblioteca]``. En este apéndice aprenderá a manejar biblioteca **NumPy**, por lo que si es la primera vez que usa Python debe instalarla. \n",
    "\n",
    "Esta biblioteca se pueden instalar dando clic en el botón ▷ de la siguiente celda desde Jupyter o VSCode, o escribiendo la siguiente línea de código en un terminal (o consola) quitando el símbolo !. Si usa GoogleColab debe ejecutar obligatoriamente esta celda para instalarla en su entorno. Esta celda solamente debe ejecutarse una vez. Si ya tiene instalado numpy no necesita ejecutar esta celda."
   ]
  },
  {
   "cell_type": "code",
   "execution_count": null,
   "metadata": {},
   "outputs": [],
   "source": [
    "#Instala la biblioteca NumPy (Obligatorio si usa GoogleColab)\n",
    "!pip install numpy"
   ]
  },
  {
   "cell_type": "markdown",
   "metadata": {},
   "source": [
    "# A.2. Importación de bibliotecas"
   ]
  },
  {
   "cell_type": "markdown",
   "metadata": {},
   "source": [
    "Todo programa en Python comienza con la importación de bibliotecas usando el comando ``import``. Al importar esta biblioteca se puede agregar la directiva ``as`` para darle un alias a la biblioteca, ya que todos los componentes de la biblioteca se acceden usando su nombre o el del alias.\n",
    "\n",
    "A continuación se muestra como cargar la biblioteca **NumPy**. Nota: Si al ejecutar la celda en Jupyter o VSCode se produce un error **\"ModuleNotFoundError\"** debe instalar la biblioteca como se indicó anteriormente. No olvide dar clic en el botón ▷ para ejecutar una celda interactiva."
   ]
  },
  {
   "cell_type": "code",
   "execution_count": 2,
   "metadata": {},
   "outputs": [],
   "source": [
    "# Carga las biblioteca NumPy\n",
    "import numpy as np"
   ]
  },
  {
   "cell_type": "markdown",
   "metadata": {},
   "source": [
    "# A.3. Operadores, vectores y matrices"
   ]
  },
  {
   "cell_type": "markdown",
   "metadata": {},
   "source": [
    "## A.3.1. Declarar vectores y matrices"
   ]
  },
  {
   "cell_type": "markdown",
   "metadata": {},
   "source": [
    "Python es un lenguaje interpretado no tipado, eso significa que no es necesario declarar el tipo de dato de las variables como se haría en lenguaje C. Sin embargo, en aquellos casos en los cuales se requiere crear un vector o matriz inicializado se usa la siguiente sintaxis."
   ]
  },
  {
   "cell_type": "markdown",
   "metadata": {},
   "source": [
    "1. Crea un vector fila con valores inicializados:"
   ]
  },
  {
   "cell_type": "code",
   "execution_count": 3,
   "metadata": {},
   "outputs": [
    {
     "name": "stdout",
     "output_type": "stream",
     "text": [
      "[ 1 -1  4  7  2]\n"
     ]
    }
   ],
   "source": [
    "a = np.array([1, -1, 4, 7, 2])\n",
    "print(a)"
   ]
  },
  {
   "cell_type": "markdown",
   "metadata": {},
   "source": [
    "Es importante indicar que en Python es posible crear este vector de la forma\n",
    "``a = [1, -1, 4, 7, 2]`` sin necesidad de anteponer ``np.array``. Sin embargo, esto crea un objeto del tipo ``list`` sobre el cual no es posible emplear muchas de las operaciones matemáticas de NumPy como se mostrará en próximos ejemplos, lo cual le podría generará errores de ejecución. La recomendación, es que si usa NumPy para hacer operaciones de álgebra lineal, cree siempre los vectores inicializados con ``np.array``.\n",
    "\n",
    "Una forma alternativa de crear un vector fila, y que resulta conveniente para ciertas operaciones como el producto matriz-vector es usar doble ``[[`` y ``]]``. Aunque por lo general la primera forma que se mostró es la que más se usa en la mayoría de los casos. "
   ]
  },
  {
   "cell_type": "code",
   "execution_count": 4,
   "metadata": {},
   "outputs": [
    {
     "name": "stdout",
     "output_type": "stream",
     "text": [
      "[[ 1 -1  4  7  2]]\n"
     ]
    }
   ],
   "source": [
    "a = np.array([[1, -1, 4, 7, 2]])\n",
    "print(a)"
   ]
  },
  {
   "cell_type": "markdown",
   "metadata": {},
   "source": [
    "2. Crea un vector columna con valores inicializados:"
   ]
  },
  {
   "cell_type": "code",
   "execution_count": 5,
   "metadata": {},
   "outputs": [
    {
     "name": "stdout",
     "output_type": "stream",
     "text": [
      "[[ 2]\n",
      " [ 0]\n",
      " [ 1]\n",
      " [-1]\n",
      " [ 1]]\n"
     ]
    }
   ],
   "source": [
    "b = np.array([[2], [0], [1], [-1], [1]])\n",
    "print(b)"
   ]
  },
  {
   "cell_type": "markdown",
   "metadata": {},
   "source": [
    "3. Crea un vector fila que contiene los valores entre ``límite_inferior`` y ``límite_superior``, con incrementos de 1, pero no incluye el límite superior: ``vector = np.arange(límite_inferior, límite_superior)``"
   ]
  },
  {
   "cell_type": "code",
   "execution_count": 7,
   "metadata": {},
   "outputs": [
    {
     "name": "stdout",
     "output_type": "stream",
     "text": [
      "[4 5 6 7 8 9]\n"
     ]
    }
   ],
   "source": [
    "c = np.arange(4,10)\n",
    "print(c)"
   ]
  },
  {
   "cell_type": "markdown",
   "metadata": {},
   "source": [
    "4. Crea un vector fila que contiene los valores entre ``límite_inferior`` hasta ``límite_superior`` con incrementos\n",
    "definidos en ``paso``, sin incluir el límite superior: ``vector = np.arange(límite_inferior,límite_superior,paso)``"
   ]
  },
  {
   "cell_type": "code",
   "execution_count": 8,
   "metadata": {},
   "outputs": [
    {
     "name": "stdout",
     "output_type": "stream",
     "text": [
      "[-1.50000000e+00 -1.40000000e+00 -1.30000000e+00 -1.20000000e+00\n",
      " -1.10000000e+00 -1.00000000e+00 -9.00000000e-01 -8.00000000e-01\n",
      " -7.00000000e-01 -6.00000000e-01 -5.00000000e-01 -4.00000000e-01\n",
      " -3.00000000e-01 -2.00000000e-01 -1.00000000e-01  1.33226763e-15\n",
      "  1.00000000e-01  2.00000000e-01  3.00000000e-01  4.00000000e-01\n",
      "  5.00000000e-01  6.00000000e-01  7.00000000e-01  8.00000000e-01\n",
      "  9.00000000e-01  1.00000000e+00  1.10000000e+00  1.20000000e+00\n",
      "  1.30000000e+00  1.40000000e+00]\n"
     ]
    }
   ],
   "source": [
    "x = np.arange(-1.5, 1.5, 0.1)\n",
    "print(x)"
   ]
  },
  {
   "cell_type": "markdown",
   "metadata": {},
   "source": [
    "5. Crea una matriz de la forma $\\left[\\begin{array}{ccc}\n",
    "1 & 2 & 3\\\\\n",
    "4 & 5 & 6\\\\\n",
    "7 & 8 & 9\n",
    "\\end{array}\\right]$"
   ]
  },
  {
   "cell_type": "code",
   "execution_count": 9,
   "metadata": {},
   "outputs": [
    {
     "name": "stdout",
     "output_type": "stream",
     "text": [
      "[[1 2 3]\n",
      " [4 5 6]\n",
      " [7 8 9]]\n"
     ]
    }
   ],
   "source": [
    "matriz = np.array([[1,2,3], [4,5,6], [7,8,9]])\n",
    "print(matriz)"
   ]
  },
  {
   "cell_type": "markdown",
   "metadata": {},
   "source": [
    "6. Crea un vector fila inicializado con ceros ``np.zeros((1,tamaño))``"
   ]
  },
  {
   "cell_type": "code",
   "execution_count": 10,
   "metadata": {},
   "outputs": [
    {
     "name": "stdout",
     "output_type": "stream",
     "text": [
      "[[0. 0. 0. 0. 0. 0. 0.]]\n"
     ]
    }
   ],
   "source": [
    "vector0 = np.zeros((1,7))\n",
    "print(vector0)"
   ]
  },
  {
   "cell_type": "markdown",
   "metadata": {},
   "source": [
    "7. Crea una matriz de #filas × #columnas elementos inicializados con ceros ``np.zeros( (#filas, #columnas) )``"
   ]
  },
  {
   "cell_type": "code",
   "execution_count": 11,
   "metadata": {},
   "outputs": [
    {
     "name": "stdout",
     "output_type": "stream",
     "text": [
      "[[0. 0.]\n",
      " [0. 0.]\n",
      " [0. 0.]]\n"
     ]
    }
   ],
   "source": [
    "matriz0 = np.zeros((3,2))\n",
    "print(matriz0)"
   ]
  },
  {
   "cell_type": "markdown",
   "metadata": {},
   "source": [
    "8. Crea una matriz de #filas×#columnas elementos inicializados con unos: ``np.ones( (#filas, #columnas) )``"
   ]
  },
  {
   "cell_type": "code",
   "execution_count": 12,
   "metadata": {},
   "outputs": [
    {
     "name": "stdout",
     "output_type": "stream",
     "text": [
      "[[1. 1. 1.]\n",
      " [1. 1. 1.]\n",
      " [1. 1. 1.]]\n"
     ]
    }
   ],
   "source": [
    "matriz1 = np.ones( (3, 3) )\n",
    "print(matriz1)"
   ]
  },
  {
   "cell_type": "markdown",
   "metadata": {},
   "source": [
    "Tanto los límites como los elementos anteriormente indicados pueden ser operaciones o variables. Veamos algunos ejemplos:"
   ]
  },
  {
   "cell_type": "code",
   "execution_count": 14,
   "metadata": {},
   "outputs": [
    {
     "name": "stdout",
     "output_type": "stream",
     "text": [
      "[-5.  -4.5 -4.  -3.5 -3.  -2.5 -2.  -1.5 -1.  -0.5  0.   0.5  1.   1.5\n",
      "  2.   2.5  3.   3.5  4.   4.5]\n",
      "[[ 0.70710678 -0.70710678  0.        ]\n",
      " [ 0.70710678  0.70710678  0.        ]\n",
      " [ 0.          0.          1.        ]]\n"
     ]
    }
   ],
   "source": [
    "max = 5\n",
    "step = .5\n",
    "x = np.arange(-max,max,step)\n",
    "print(x)\n",
    "\n",
    "teta = np.pi/4\n",
    "y = np.array( [[np.cos(teta), -np.sin(teta), 0], [np.sin(teta), np.cos(teta), 0], [0, 0, 1] ])\n",
    "print(y)"
   ]
  },
  {
   "cell_type": "markdown",
   "metadata": {},
   "source": [
    "En el ejemplo anterior, se mostró también como usar las funciones trigonométricas seno y coseno de la biblioteca NumPy así como la constante numérica $\\pi$ con ``np.pi``."
   ]
  },
  {
   "cell_type": "markdown",
   "metadata": {},
   "source": [
    "## A.3.2. Trabajar con vectores o matrices"
   ]
  },
  {
   "cell_type": "markdown",
   "metadata": {},
   "source": [
    "### Productos de matrices\n",
    " \n",
    "Todos los operadores y funciones básicas de NumPy están sobrecargados para trabajar con vectores y matrices, sin embargo, hay que tener en cuenta que, por defecto, todos los operados realizan operaciones componente-componente. Por ejemplo, supongamos que A y B son dos matrices 3 × 3. \n",
    "\n",
    "La línea de código ``A*B`` calcula el producto componente-componente de ambas matrices, es decir, \n",
    "$$\\left[\\begin{array}{ccc}\n",
    "a_{11}\\times b_{11} & a_{12}\\times b_{12} & a_{13}\\times b_{13}\\\\\n",
    "a_{21}\\times b_{21} & a_{22}\\times b_{22} & a_{23}\\times b_{23}\\\\\n",
    "a_{31}\\times b_{31} & a_{32}\\times b_{32} & a_{33}\\times b_{33}\n",
    "\\end{array}\\right]$$\n",
    "\n",
    "Por otra parte, si lo que se desea es el producto de las dos matrices, se debe usar la función ``np.dot(A,B)``, como se muestra en el siguiente ejemplo:"
   ]
  },
  {
   "cell_type": "code",
   "execution_count": 15,
   "metadata": {},
   "outputs": [
    {
     "name": "stdout",
     "output_type": "stream",
     "text": [
      "[[12  2 30]\n",
      " [ 7  0  3]\n",
      " [ 0  0  2]]\n",
      "[[26  9 23]\n",
      " [ 4  1  8]\n",
      " [27  8 28]]\n"
     ]
    }
   ],
   "source": [
    "A = np.array([[3,2,6], [1,0,3], [5,1,2]])\n",
    "B = np.array([[4,1,5], [7,3,1], [0,0,1]])\n",
    "#Calcula el producto componente-componente de matrices\n",
    "C = A * B\n",
    "print(C)\n",
    "#Calcula el producto de matrices\n",
    "D = np.dot(A,B)\n",
    "print(D)"
   ]
  },
  {
   "cell_type": "markdown",
   "metadata": {},
   "source": [
    "### Productos de vectores\n",
    "\n",
    "Algo similar ocurre cuando se multiplican vectores. Sí v1 y v2 son dos vectores fila, la línea de código ``v1*v2`` genera un vector cuyos elementos son el **producto componente-componente** de los vectores v1 y v2 $$\\left[\\begin{array}{ccc}\n",
    "v_{11}\\times v_{21} & v_{12}\\times v_{22} & v_{13}\\times v_{23}\\end{array}\\right]$$"
   ]
  },
  {
   "cell_type": "code",
   "execution_count": 17,
   "metadata": {},
   "outputs": [
    {
     "name": "stdout",
     "output_type": "stream",
     "text": [
      "[ 2 15 28]\n"
     ]
    }
   ],
   "source": [
    "v1 = np.array([2,3,4])\n",
    "v2 = np.array([1,5,7])\n",
    "v3 = v1 * v2\n",
    "print(v3)"
   ]
  },
  {
   "cell_type": "markdown",
   "metadata": {},
   "source": [
    "Si lo que se deseaba en el pasado cálculo era calcular el **producto punto**,\n",
    "\n",
    "$$\\boldsymbol{v}_{1}\\circ\\boldsymbol{v}_{2}=\\boldsymbol{v}_{1}\\boldsymbol{v}_{2}^{T}=\\sum_{k=1}^{N}v_{1k}v_{2k}$$\n",
    "\n",
    "es necesario usar la función ``np.dot``"
   ]
  },
  {
   "cell_type": "code",
   "execution_count": 18,
   "metadata": {},
   "outputs": [
    {
     "name": "stdout",
     "output_type": "stream",
     "text": [
      "45\n"
     ]
    }
   ],
   "source": [
    "producto_punto = np.dot(v1,v2)\n",
    "print(producto_punto)"
   ]
  },
  {
   "cell_type": "markdown",
   "metadata": {},
   "source": [
    "Un caso interesante de Python es que el operador multiplicación se comporta como un **producto tensorial** cuando se multiplica un vector fila y uno columna:\n",
    "\n",
    "$$ \\left[\\begin{array}{ccc}\n",
    "v_{11} & v_{12} & v_{13}\\end{array}\\right]\\otimes\\left[\\begin{array}{c}\n",
    "v_{21}\\\\\n",
    "v_{22}\\\\\n",
    "v_{23}\n",
    "\\end{array}\\right]=\\left[\\begin{array}{ccc}\n",
    "v_{11}\\times\\left[\\begin{array}{c}\n",
    "v_{21}\\\\\n",
    "v_{22}\\\\\n",
    "v_{23}\n",
    "\\end{array}\\right] & v_{12}\\times\\left[\\begin{array}{c}\n",
    "v_{21}\\\\\n",
    "v_{22}\\\\\n",
    "v_{23}\n",
    "\\end{array}\\right] & v_{13}\\times\\left[\\begin{array}{c}\n",
    "v_{21}\\\\\n",
    "v_{22}\\\\\n",
    "v_{23}\n",
    "\\end{array}\\right]\\end{array}\\right]$$\n"
   ]
  },
  {
   "cell_type": "code",
   "execution_count": 19,
   "metadata": {},
   "outputs": [
    {
     "name": "stdout",
     "output_type": "stream",
     "text": [
      "[1 2 3]\n",
      "[[-1]\n",
      " [ 2]\n",
      " [ 1]]\n",
      "[[-1 -2 -3]\n",
      " [ 2  4  6]\n",
      " [ 1  2  3]]\n"
     ]
    }
   ],
   "source": [
    "a = np.array([1, 2, 3])\n",
    "b = np.array([[-1], [2], [1]])\n",
    "u = a*b\n",
    "print(a)\n",
    "print(b)\n",
    "print(u)"
   ]
  },
  {
   "cell_type": "markdown",
   "metadata": {},
   "source": [
    "### Operadores componente a componente\n",
    "\n",
    "En la sección anterior se mostró que operadores como la multiplicación realizaban un producto componente-componente. Este comportamiento se extiende a todas las funciones de la biblioteca NumPy como se mostrará en los siguientes ejemplos: \n",
    "\n",
    "* Para elevar los elementos de un vector $v1 = [2 ~ 3 ~ 4]$ a la potencia indicada en el vector $v2 = [1 ~ 5 ~ 7]$, es decir, $v_3 =\\left[\\begin{array}{ccc}\n",
    "2^1 & 3^5 & 4^7\\end{array}\\right]$\n"
   ]
  },
  {
   "cell_type": "code",
   "execution_count": 80,
   "metadata": {},
   "outputs": [
    {
     "name": "stdout",
     "output_type": "stream",
     "text": [
      "[    2   243 16384]\n"
     ]
    }
   ],
   "source": [
    "v1 = np.array([2,3,4])\n",
    "v2 = np.array([1,5,7])\n",
    "v3 = np.pow(v1,v2)\n",
    "print(v3)"
   ]
  },
  {
   "cell_type": "markdown",
   "metadata": {},
   "source": [
    "* Para el operador potenciación, ``np.pow``, cuando el elemento de la izquierda es un escalar, el vector resultante es igual al escalar elevado a cada una de los potencias indicadas en el vector. El siguiente ejemplo produce $w =\\left[\\begin{array}{ccc} 2^0 & 2^1 & 2^2 & 2^3 & 2^4 & 2^5 & 2^6 & 2^7\\end{array}\\right]$"
   ]
  },
  {
   "cell_type": "code",
   "execution_count": 20,
   "metadata": {},
   "outputs": [
    {
     "name": "stdout",
     "output_type": "stream",
     "text": [
      "[  1   2   4   8  16  32  64 128]\n"
     ]
    }
   ],
   "source": [
    "n = np.arange(0,8)\n",
    "w = np.pow(2, n)\n",
    "print(w)"
   ]
  },
  {
   "cell_type": "markdown",
   "metadata": {},
   "source": [
    "* Como se indicó anteriormente, se pueden usar vectores o matrices como argumentos de entrada de todas las funciones de NumPy. En el siguiente ejemplo ``np.sin`` produce una matriz de salida que es igual al seno de cada elemento de la matriz de entrada:"
   ]
  },
  {
   "cell_type": "code",
   "execution_count": 21,
   "metadata": {},
   "outputs": [
    {
     "name": "stdout",
     "output_type": "stream",
     "text": [
      "[[ 0.          1.57079633 -3.14159265]\n",
      " [ 0.78539816  6.28318531  3.14159265]]\n",
      "[[ 0.00000000e+00  1.00000000e+00 -1.22464680e-16]\n",
      " [ 7.07106781e-01 -2.44929360e-16  1.22464680e-16]]\n"
     ]
    }
   ],
   "source": [
    "m1 = np.array([[0, np.pi/2, -np.pi], [np.pi/4, 2*np.pi, np.pi]])\n",
    "m2 = np.sin(m1)\n",
    "print(m1)\n",
    "print(m2)"
   ]
  },
  {
   "cell_type": "markdown",
   "metadata": {},
   "source": [
    "### Producto de matrices y vectores\n",
    "\n",
    "Una operación fundamental en álgebra lineal es el producto de una matriz por un vector columna para producir una transformación lineal del tipo\n",
    "$$\\boldsymbol{y}=\\mathbf{A}\\boldsymbol{x}=\\left[\\begin{array}{ccc}\n",
    "a_{11} & a_{12} & a_{13}\\\\\n",
    "a_{21} & a_{22} & a_{23}\\\\\n",
    "a_{31} & a_{32} & a_{33}\n",
    "\\end{array}\\right]\\left[\\begin{array}{c}\n",
    "x_{1}\\\\\n",
    "x_{2}\\\\\n",
    "x_{3}\n",
    "\\end{array}\\right]$$\n",
    "\n",
    "Este cálculo se puede realizar con NumPy usando el operador ``np.dot`` de la siguiente forma:"
   ]
  },
  {
   "cell_type": "code",
   "execution_count": 22,
   "metadata": {},
   "outputs": [
    {
     "name": "stdout",
     "output_type": "stream",
     "text": [
      "[[3 2 6]\n",
      " [1 0 3]\n",
      " [5 1 2]]\n",
      "[[0]\n",
      " [0]\n",
      " [1]]\n",
      "[[6]\n",
      " [3]\n",
      " [2]]\n"
     ]
    }
   ],
   "source": [
    "A = np.array([[3,2,6], [1,0,3], [5,1,2]])\n",
    "x = np.array([[0],[0],[1]])\n",
    "y = np.dot(A,x)\n",
    "print(A)\n",
    "print(x)\n",
    "print(y)"
   ]
  },
  {
   "cell_type": "markdown",
   "metadata": {},
   "source": [
    "Sí x fuera un vector fila, sabemos desde el álgebra lineal que la operación $\\boldsymbol{y}=\\mathbf{A}\\boldsymbol{x}$ es inválida, por lo que la única forma válida es $$\\boldsymbol{y}=\\mathbf{A}\\boldsymbol{x}^T$$ con T indicando la transpuesta de x. Esto se puede escribir en NumPy de la siguiente forma:"
   ]
  },
  {
   "cell_type": "code",
   "execution_count": 23,
   "metadata": {},
   "outputs": [
    {
     "name": "stdout",
     "output_type": "stream",
     "text": [
      "[[3 2 6]\n",
      " [1 0 3]\n",
      " [5 1 2]]\n",
      "[[0 0 1]]\n",
      "[[6]\n",
      " [3]\n",
      " [2]]\n"
     ]
    }
   ],
   "source": [
    "A = np.array([[3,2,6], [1,0,3], [5,1,2]])\n",
    "x = np.array([[0,0,1]])\n",
    "y = np.dot(A, x.T)\n",
    "print(A)\n",
    "print(x)\n",
    "print(y)"
   ]
  },
  {
   "cell_type": "markdown",
   "metadata": {},
   "source": [
    "El programa anterior funcionó porque x fue definido como un vector fila con doble ``[[`` y ``]]``. Sin embargo si se hubiera definido con un solo ``[``, como ``x = np.array([0,0,1])``. El código produce un resultado matemático correcto pero empaquetado en un vector fila y no columna como se muestra a continuación:"
   ]
  },
  {
   "cell_type": "code",
   "execution_count": 24,
   "metadata": {},
   "outputs": [
    {
     "name": "stdout",
     "output_type": "stream",
     "text": [
      "[[3 2 6]\n",
      " [1 0 3]\n",
      " [5 1 2]]\n",
      "[0 0 1]\n",
      "[6 3 2]\n"
     ]
    }
   ],
   "source": [
    "A = np.array([[3,2,6], [1,0,3], [5,1,2]])\n",
    "x = np.array([0,0,1])\n",
    "y = np.dot(A, x.T)\n",
    "print(A)\n",
    "print(x)\n",
    "print(y)"
   ]
  },
  {
   "cell_type": "markdown",
   "metadata": {},
   "source": [
    "# A.4. Acceso a elementos de matrices y vectores"
   ]
  },
  {
   "cell_type": "markdown",
   "metadata": {},
   "source": [
    "Para acceder individualmente a los elementos de matrices y vectores se emplea la siguiente notación:\n",
    "* ``elemento = vector[posición]``\n",
    "* ``subvector_elementos = vector[vector_posiciones]``\n",
    "* ``elemento = matriz[fila,columna]``\n",
    "* ``submatriz_elementos = matriz[vector_filas,vector_columnas]``\n",
    "\n",
    "Cabe resaltar que los índices de los elementos inician en 0 y el último elemento está en la posición ``longitud_vector-1``\n",
    "o ``número_filas/columnas-1``, similar a otros lenguajes de programación como C. \n",
    "\n",
    "Cuando se trata de acceder a elementos fuera del arreglo se genera el mensaje de error **IndexError**. \n",
    "\n",
    "Hay que tener en cuenta que los índices negativos se tratan como accesos desde el final del arreglo. Por ejemplo, acceder al elemento de la posición -1 es equivalente al acceso al último elemento, y -2 al penúltimo, etc.\n",
    "\n",
    "Los valores de posición, fila o columna no necesariamente tienen que ser escalares, pueden ser vectores, de esta forma, Python devuelve un subvector o submatriz que contiene los elementos indicados. A continuación se ilustran algunos ejemplos."
   ]
  },
  {
   "cell_type": "code",
   "execution_count": 25,
   "metadata": {},
   "outputs": [
    {
     "name": "stdout",
     "output_type": "stream",
     "text": [
      "8\n",
      "4\n",
      "[ 3 -2]\n",
      "[-3 -2  8]\n"
     ]
    }
   ],
   "source": [
    "v3 = np.array([2,-3,7,1,3,-2,5,8,6,4])\n",
    "e1 = v3[7] \n",
    "print(e1)  #e1=8\n",
    "e2 = v3[-1]\n",
    "print(e2) #e2 = último elemento\n",
    "v4 = v3[4:6]\n",
    "print(v4)  #v4 = [v3[4],v3[5]] = [3,-2]\n",
    "v5 = v3[[1,5,7]] #v5 = [v3[1],v3[5],v3[7]] = [-3, -2, 8]\n",
    "print(v5)"
   ]
  },
  {
   "cell_type": "markdown",
   "metadata": {},
   "source": [
    "Se pueden alterar elementos individuales o un conjunto de elementos de una matriz o vector usando el mismo principio:\n",
    "* ``vector[posiciones] = elementos``\n",
    "* ``matriz[filas,columnas] = elementos``\n",
    "\n",
    "En el siguiente ejemplo, los elementos de las posiciones 4, 6 y 8 son sustituidos por los números 0, 1 y 2:"
   ]
  },
  {
   "cell_type": "code",
   "execution_count": 26,
   "metadata": {},
   "outputs": [
    {
     "name": "stdout",
     "output_type": "stream",
     "text": [
      "[ 2 -3  7  1  0 -2  1  8  2  4]\n"
     ]
    }
   ],
   "source": [
    "v3 = np.array([2,-3,7,1,3,-2,5,8,6,4])\n",
    "v3[[4,6,8]] = [0,1,2] \n",
    "print(v3)"
   ]
  },
  {
   "cell_type": "markdown",
   "metadata": {},
   "source": [
    "de esta forma, esta línea de código es equivalente a las instrucciones:"
   ]
  },
  {
   "cell_type": "code",
   "execution_count": 27,
   "metadata": {},
   "outputs": [],
   "source": [
    "v3[4] = 0\n",
    "v3[6] = 1\n",
    "v3[8] = 2"
   ]
  },
  {
   "cell_type": "markdown",
   "metadata": {},
   "source": [
    "### A.4.1. Extraer submatrices"
   ]
  },
  {
   "cell_type": "markdown",
   "metadata": {},
   "source": [
    "Se presenta a continuación otros ejemplos de acceso a elementos sobre una matriz. Siendo $A = \\left[\\begin{array}{ccc}\n",
    "3 & 2 & 6\\\\\n",
    "1 & 0 & 3\\\\\n",
    "5 & 1 & 2\n",
    "\\end{array}\\right]$\n",
    "se tiene:\n",
    "\n",
    "1. Para extraer el elemento $a_{32}$: "
   ]
  },
  {
   "cell_type": "code",
   "execution_count": 28,
   "metadata": {},
   "outputs": [
    {
     "name": "stdout",
     "output_type": "stream",
     "text": [
      "1\n"
     ]
    }
   ],
   "source": [
    "A = np.array([[3,2,6], [1,0,3], [5,1,2]])\n",
    "a32 = A[2,1]\n",
    "print(a32)"
   ]
  },
  {
   "cell_type": "markdown",
   "metadata": {},
   "source": [
    "2. Para extraer una submatriz de A (las dos filas inferiores):"
   ]
  },
  {
   "cell_type": "code",
   "execution_count": 29,
   "metadata": {},
   "outputs": [
    {
     "name": "stdout",
     "output_type": "stream",
     "text": [
      "[[1 0 3]\n",
      " [5 1 2]]\n"
     ]
    }
   ],
   "source": [
    "A2 = A[1:3, 0:3]\n",
    "print(A2)"
   ]
  },
  {
   "cell_type": "markdown",
   "metadata": {},
   "source": [
    "3. Para extraer un vector con todos los elementos de la columna 1 de la matriz A:"
   ]
  },
  {
   "cell_type": "code",
   "execution_count": 30,
   "metadata": {},
   "outputs": [
    {
     "name": "stdout",
     "output_type": "stream",
     "text": [
      "[3 1 5]\n"
     ]
    }
   ],
   "source": [
    "v6 = A[:,0]\n",
    "print(v6)"
   ]
  },
  {
   "cell_type": "markdown",
   "metadata": {},
   "source": [
    "4. Para extraer en el vector con los elementos de la fila 3 de la matriz A:"
   ]
  },
  {
   "cell_type": "code",
   "execution_count": 31,
   "metadata": {},
   "outputs": [
    {
     "name": "stdout",
     "output_type": "stream",
     "text": [
      "[5 1 2]\n"
     ]
    }
   ],
   "source": [
    "v7 = A[2,:]\n",
    "print(v7)"
   ]
  },
  {
   "cell_type": "markdown",
   "metadata": {},
   "source": [
    "En los dos ejemplos anteriores se usó la constante : para indicar que se deben devolver todas los elementos de la\n",
    "columna o fila especificada."
   ]
  },
  {
   "cell_type": "markdown",
   "metadata": {},
   "source": [
    "### A.4.2. Extraer el tamaño de vectores y matrices"
   ]
  },
  {
   "cell_type": "markdown",
   "metadata": {},
   "source": [
    "Finalmente, cuando se requiera medir la longitud de vectores y el tamaño de matrices se usan los operadores ``len`` y ``shape`` de la siguiente forma:\n",
    "\n",
    "1. Para obtener el tamaño del vector v3"
   ]
  },
  {
   "cell_type": "code",
   "execution_count": 32,
   "metadata": {},
   "outputs": [
    {
     "name": "stdout",
     "output_type": "stream",
     "text": [
      "10\n"
     ]
    }
   ],
   "source": [
    "tam1 = len(v3)\n",
    "print(tam1)"
   ]
  },
  {
   "cell_type": "markdown",
   "metadata": {},
   "source": [
    "2. Para obtener el número de filas y columnas de una matriz:"
   ]
  },
  {
   "cell_type": "code",
   "execution_count": 33,
   "metadata": {},
   "outputs": [
    {
     "name": "stdout",
     "output_type": "stream",
     "text": [
      "(2, 3)\n"
     ]
    }
   ],
   "source": [
    "tam2 = A2.shape\n",
    "print(tam2)"
   ]
  },
  {
   "cell_type": "markdown",
   "metadata": {},
   "source": [
    "En este caso, en ``tam2`` se retorna una tupla con los valores [2,3], donde ``tam2[0]`` es el número de filas de la\n",
    "matriz y ``tam2[1]`` el número de columnas"
   ]
  },
  {
   "cell_type": "markdown",
   "metadata": {},
   "source": [
    "# A.5. Comparaciones"
   ]
  },
  {
   "cell_type": "markdown",
   "metadata": {},
   "source": [
    "Python incluye la estructura condicional if..then..else, cuya sintaxis es la siguiente:\n",
    "\n",
    "**Formato 1**:\n",
    "```python\n",
    "if condición:\n",
    "    código sí se cumple la condición\n",
    "```\n",
    "\n",
    "**Formato 2**:\n",
    "```python\n",
    "if condición:\n",
    "    código sí se cumple la condición\n",
    "else:\n",
    "    código sí no se cumple la condición\n",
    "```\n",
    "\n",
    "**Formato 3**:\n",
    "```python\n",
    "if condición1:\n",
    "    código sí se cumple la condición1\n",
    "elif condición2:\n",
    "    código sí se cumple la condición2\n",
    "else:\n",
    "    código sí no se cumple la condición1 y la condición2\n",
    "```\n",
    "\n",
    "Las condiciones se deben escribir usando los siguientes operadores de comparación aplicados únicamente a escalares: == , != (diferente), < , >, <=, >=. \n",
    "\n",
    "Python es muy sensible a la sangría del código, es decir, todas las sentencias dentro de una condición deben estar alineadas a la misma sangría para representar que es un bloque de instrucciones."
   ]
  },
  {
   "cell_type": "code",
   "execution_count": null,
   "metadata": {},
   "outputs": [],
   "source": [
    "#Ejemplo:\n",
    "if i == j:\n",
    "    A[i,j] = 2\n",
    "elif np.abs(i-j) != 1:\n",
    "    A[i,j] = -1\n",
    "else:\n",
    "    A[i,j] = 0"
   ]
  },
  {
   "cell_type": "markdown",
   "metadata": {},
   "source": [
    "# A.6. Ciclos y optimizaciones"
   ]
  },
  {
   "cell_type": "markdown",
   "metadata": {},
   "source": [
    "\n",
    "Aunque Python contiene las estructuras de programación ``for`` y ``while``, debe evitarse su uso para la realización de cálculos simples tales como la evaluación de funciones que toman vectores como argumentos de entrada y sumatorias, las cuales se pueden hacer más rápido si se usan funciones especializadas de la biblioteca NumPy.\n",
    "\n",
    "La sintaxis de estas estructuras es la siguiente:\n",
    "```python\n",
    "for x in vector:\n",
    "    instrucciones\n",
    "```\n",
    "y \n",
    "```python\n",
    "while condición_de_repetición:\n",
    "    instrucciones\n",
    "```\n",
    "\n",
    "donde ``vector`` especifica los valores que tomará la variable x en cada iteración. \n",
    "\n",
    "En el siguiente ejemplo se muestra la **peor forma** de usar un ciclo ``for`` para crear un vector donde cada elemento es seno de un vector de ángulos:"
   ]
  },
  {
   "cell_type": "code",
   "execution_count": 35,
   "metadata": {},
   "outputs": [
    {
     "name": "stdout",
     "output_type": "stream",
     "text": [
      "[[ 0.00000000e+00]\n",
      " [ 3.09016994e-01]\n",
      " [ 5.87785252e-01]\n",
      " [ 8.09016994e-01]\n",
      " [ 9.51056516e-01]\n",
      " [ 1.00000000e+00]\n",
      " [ 9.51056516e-01]\n",
      " [ 8.09016994e-01]\n",
      " [ 5.87785252e-01]\n",
      " [ 3.09016994e-01]\n",
      " [ 1.22464680e-16]\n",
      " [-3.09016994e-01]\n",
      " [-5.87785252e-01]\n",
      " [-8.09016994e-01]\n",
      " [-9.51056516e-01]\n",
      " [-1.00000000e+00]\n",
      " [-9.51056516e-01]\n",
      " [-8.09016994e-01]\n",
      " [-5.87785252e-01]\n",
      " [-3.09016994e-01]]\n"
     ]
    }
   ],
   "source": [
    "x = np.zeros((20,1))\n",
    "n=0\n",
    "for teta in np.arange(0, 2*np.pi, np.pi/10):\n",
    "    x[n] = np.sin(teta)\n",
    "    n=n+1\n",
    "print(x)"
   ]
  },
  {
   "cell_type": "markdown",
   "metadata": {},
   "source": [
    "**OPTIMIZACIÓN**: El código anterior no es la forma más eficiente de evaluar la función. Este programa se puede escribir más simple y con una ejecución más rápida de la siguiente forma:"
   ]
  },
  {
   "cell_type": "code",
   "execution_count": 36,
   "metadata": {},
   "outputs": [
    {
     "name": "stdout",
     "output_type": "stream",
     "text": [
      "[ 0.00000000e+00  3.09016994e-01  5.87785252e-01  8.09016994e-01\n",
      "  9.51056516e-01  1.00000000e+00  9.51056516e-01  8.09016994e-01\n",
      "  5.87785252e-01  3.09016994e-01  1.22464680e-16 -3.09016994e-01\n",
      " -5.87785252e-01 -8.09016994e-01 -9.51056516e-01 -1.00000000e+00\n",
      " -9.51056516e-01 -8.09016994e-01 -5.87785252e-01 -3.09016994e-01]\n"
     ]
    }
   ],
   "source": [
    "teta=np.arange(0, 2*np.pi, np.pi/10)\n",
    "x = np.sin(teta)\n",
    "print(x)"
   ]
  },
  {
   "cell_type": "markdown",
   "metadata": {},
   "source": [
    "Otro ejemplo de optimización es el cálculo de la sumatoria para evaluar la energía de una señal:"
   ]
  },
  {
   "cell_type": "code",
   "execution_count": 37,
   "metadata": {},
   "outputs": [
    {
     "name": "stdout",
     "output_type": "stream",
     "text": [
      "217\n",
      "217\n"
     ]
    }
   ],
   "source": [
    "v3 = np.array([2,-3,7,1,3,-2,5,8,6,4])\n",
    "\n",
    "#Forma ineficiente de cálculo de la energía\n",
    "energia = 0 \n",
    "for n in range(0,len(v3)):\n",
    "    energia = energia+np.pow(v3[n],2)\n",
    "print(energia)\n",
    "\n",
    "#Forma eficiente de cálculo de la energía\n",
    "energia = np.sum(np.pow(v3,2))\n",
    "print(energia)"
   ]
  },
  {
   "cell_type": "markdown",
   "metadata": {},
   "source": [
    "Tanto los ciclos ``for`` como el ``while`` se pueden interrumpir por medio de la instrucción ``break``. Ejemplo:"
   ]
  },
  {
   "cell_type": "code",
   "execution_count": null,
   "metadata": {},
   "outputs": [],
   "source": [
    "i = 1\n",
    "y = 0\n",
    "while x[i] != 0:\n",
    "    y = y+x[i]\n",
    "    if y > 100:\n",
    "        break\n",
    "    i = i+1"
   ]
  },
  {
   "cell_type": "markdown",
   "metadata": {},
   "source": [
    "# A.7. Funciones"
   ]
  },
  {
   "cell_type": "markdown",
   "metadata": {},
   "source": [
    "Al igual que todos los lenguajes de programación, en Python es posible crear funciones, lo cual se realiza con el comando ``def``:\n",
    "\n",
    "```python\n",
    "def nombre_función ( parámetro1 , parámetro 2 , ... , parámetro n):\n",
    "  código_función\n",
    "  return resultado\n",
    "```\n",
    "donde resultado puede ser valor escalar, un vector o una tupla del tipo ``(retorno1,retorno2, ..., retorno-m)`` en caso de que la función retorne múltiples valores.\n",
    "\n",
    "En el siguiente ejemplo se muestra como crear y usar una función para calcular la energía de una señal."
   ]
  },
  {
   "cell_type": "code",
   "execution_count": 39,
   "metadata": {},
   "outputs": [
    {
     "name": "stdout",
     "output_type": "stream",
     "text": [
      "217\n"
     ]
    }
   ],
   "source": [
    "#Definición de la señal/vector\n",
    "v3 = np.array([2,-3,7,1,3,-2,5,8,6,4])\n",
    "\n",
    "#Definición de la función para el cálculo de la energía\n",
    "def energia(x):\n",
    "    return np.sum(np.pow(x,2))\n",
    "\n",
    "#Llamado a la función\n",
    "E = energia(v3)\n",
    "print(E)"
   ]
  },
  {
   "cell_type": "markdown",
   "metadata": {},
   "source": [
    "# A.8 Uso de cuadernos Python"
   ]
  },
  {
   "cell_type": "markdown",
   "metadata": {},
   "source": [
    "En entornos como VSCode, Jupyter o GoogleColab se pueden crear cuadernos Python (archivos de extensión ``.ipynb``). Estos cuadernos, a diferencia con los archivo de código puro Python (extensión ``.py``), pueden incluir celdas de código y texto con formato, usando un lenguaje de descripción de marcas llamado Markdown.\n",
    "\n",
    "Estas celdas se crean en su entorno de programación usando un comandos especiales de su entorno. Por ejemplo en VSCode, existe un botón llamado ``+Code`` y ``+Markdown`` para crear una u otra celda. Y las celdas se pueden intercambiar de funcionalidad si fueron creadas con el estilo incorrecto.\n",
    "\n",
    "Las celdas de código se caracterizan porque incluyen un botón de Play ▷ que permite ejecutarlas. Las celdas de texto por su parte, pueden ser editadas dando doble clic sobre la celda. Una vez finalice la edición de una celda de texto, debe guardarla para que su contenido sea renderizado por la herramienta. Por ejemplo, en VSCode debe dar clic en el botón V.\n",
    "\n",
    "En Markdown, existen diferentes comandos para darle estilo al documento como se verá en las siguientes secciones.\n",
    "\n",
    "## A.8.1 Títulos\n",
    "\n",
    "Para los títulos emplee:\n",
    "\n",
    "```Markdown\n",
    "# Título Nivel 1\n",
    "## Título Nivel 2\n",
    "### Título Nivel 3\n",
    "\n",
    "```\n",
    "Lo cual produce la salida:\n",
    "\n",
    "# Título Nivel 1\n",
    "## Título Nivel 2\n",
    "### Título Nivel 3"
   ]
  },
  {
   "cell_type": "markdown",
   "metadata": {},
   "source": [
    "## A.8.2. Estilo de la fuente"
   ]
  },
  {
   "cell_type": "markdown",
   "metadata": {},
   "source": [
    "Puede cambiar la fuente a **Negrilla**, _Inclinada_ o **_Negrilla e inclinada_** con:\n",
    "\n",
    "```Markdown\n",
    "**Negrilla**\n",
    "_Inclinada_\n",
    "**_Negrilla e inclinada_** \n",
    "```"
   ]
  },
  {
   "cell_type": "markdown",
   "metadata": {},
   "source": [
    "## A.8.3. Listas y viñetas"
   ]
  },
  {
   "cell_type": "markdown",
   "metadata": {},
   "source": [
    "Para incluir listas numeradas escriba:\n",
    "\n",
    "```Markdown\n",
    "1. Primera lista. Esto es un párrafo de prueba.\n",
    "2. Segunda lista. Esto es otro párrafo de prueba.\n",
    "```\n",
    "\n",
    "Lo cual produce:\n",
    "1. Primera lista. Esto es un párrafo de prueba.\n",
    "2. Segunda lista. Esto es otro párrafo de prueba.\n",
    "\n",
    "Para incluir listas con viñetas basta con incluir el carácter ``*`` en la primera línea\n",
    "\n",
    "```Markdown\n",
    "* Texto de la viñeta 1\n",
    "* Texto de la viñeta 2\n",
    "```\n",
    "Lo cual produce:\n",
    "* Texto de la viñeta 1\n",
    "* Texto de la viñeta 2"
   ]
  },
  {
   "cell_type": "markdown",
   "metadata": {},
   "source": [
    "## A.8.4. Imágenes"
   ]
  },
  {
   "cell_type": "markdown",
   "metadata": {},
   "source": [
    "Puede incluir imágenes usando la siguiente sintaxis:\n",
    "```Markdown\n",
    "![Sistema Básico de Procesamiento Digital de Señales](../img/SistemaDSP.png)\n",
    "```\n",
    "![Sistema Básico de Procesamiento Digital de Señales](../img/SistemaDSP.png)"
   ]
  },
  {
   "cell_type": "markdown",
   "metadata": {},
   "source": [
    "## A.8.5. Tablas"
   ]
  },
  {
   "cell_type": "markdown",
   "metadata": {},
   "source": [
    "Para las tablas use el siguiente formato\n",
    "\n",
    "```Markdown\n",
    "|Columna1|Columna2|Columna3|\n",
    "|----|----|----|\n",
    "|item-fila1|item2|item3|\n",
    "|item-fila2|item4|item5|\n",
    "```\n",
    "y Markdown calcula los anchos de las columnas automáticamente:\n",
    "|Columna1|Columna2|Columna3|\n",
    "|----|----|----|\n",
    "|item-fila1|item2|item3|\n",
    "|item-fila2|item4|item5|"
   ]
  },
  {
   "cell_type": "markdown",
   "metadata": {},
   "source": [
    "# A.8.6. Ecuaciones"
   ]
  },
  {
   "cell_type": "markdown",
   "metadata": {},
   "source": [
    "Las ecuaciones se pueden incluir en línea con el texto encerrándolas entre el signo ``$`` y se centran y ubican en una única línea usando el doble ``$$``. Dentro de los signos de ``$`` se deben escribir las ecuaciones en formato LaTEX. El siguiente ejemplo muestra como crear un texto con ecuaciones:\n",
    "\n",
    "```Markdown\n",
    "En un párrafo se pueden incluir símbolos como $\\pi$ que sirven para escribir ecuaciones en línea como el área de un círculo $A=\\pi \\times r^{2}$ o centradas como el volumen del cono $V_2$: $$V_2=\\frac{1}{3} \\pi r^2 h$$\n",
    "```\n",
    "\n",
    "Lo cual produce la salida:\n",
    "\n",
    "En un párrafo se pueden incluir símbolos como $\\pi$ que sirven para escribir ecuaciones en línea como el área de un círculo $A=\\pi \\times r^{2}$ o centradas como el volumen del cono $V_2$: $$V_2=\\frac{1}{3} \\pi r^2 h$$\n",
    "\n",
    "Para más estilos de ecuaciones debe consultar una guía de LaTEX."
   ]
  }
 ],
 "metadata": {
  "kernelspec": {
   "display_name": "Python 3",
   "language": "python",
   "name": "python3"
  },
  "language_info": {
   "codemirror_mode": {
    "name": "ipython",
    "version": 3
   },
   "file_extension": ".py",
   "mimetype": "text/x-python",
   "name": "python",
   "nbconvert_exporter": "python",
   "pygments_lexer": "ipython3",
   "version": "3.13.1"
  }
 },
 "nbformat": 4,
 "nbformat_minor": 2
}
