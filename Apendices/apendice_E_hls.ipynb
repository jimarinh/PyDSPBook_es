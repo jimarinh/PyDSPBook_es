{
 "cells": [
  {
   "cell_type": "markdown",
   "metadata": {},
   "source": [
    "# Apéndice E. Uso de la librería HLSLib"
   ]
  },
  {
   "cell_type": "markdown",
   "metadata": {},
   "source": [
    "La implementación de algoritmos de procesamiento digital de señales en hardware (para FPGA o ASIC) se puede realizar con declaraciones explícitas de unidades MAC (Multiplicación-Acumulación) y su interconexión usando lenguajes de descripción de hardware (HDL: _Hardware description language_) como Verilog o VHDL, o bien empleando una estrategia de síntesis de alto nivel (**HLS: _High-level Synthesis_**) a partir de algoritmos descritos en lenguaje C que se explicará en este apéndice.\n",
    "\n",
    "A lo largo del libro se han presentado fragmentos de código en lenguaje C para la implementación de las diferentes técnicas. Estos mismos algoritmos se pueden adaptar para sintetizar una solución en hardware usando compiladores HLS que se encuentran disponibles en herramientas comerciales de síntesis de hardware.\n",
    "\n",
    "Las representaciones de estos algoritmos en lenguaje C sintetizable se conocen con el nombre de representación en **lenguaje C algorítmico** y para usarlo basta con declarar las variables con tipos de datos especializados que sustituyen los tipos de datos ``int`` o ``float``. Usando librerías en C, que \n",
    "son proporcionadas por los fabricantes de las herramientas HLS, es posible usar cualquier compilador para generar una versión ejecutable que permita simular y verificar el funcionamiento del algoritmo. Posteriormente, cuando la verificación es correcta, se usa el compilador HLS para traducir el algoritmo descrito en lenguaje C algorítmico en un archivo RTL (_Register Transfer Logic_) en Verilog o VHDL, que permite sintesizar la solución en hardware para una FPGA o ASIC.\n",
    "\n",
    "Para ilustrar como usar estas herramientas de HLS, emplearemos en este apéndice la biblioteca de código abierto HLSLib de Siemens que se puede descargar de manera libre de https://hlslibs.org/\n",
    "\n",
    "Esta biblioteca tiene diferentes tipos de datos y construcciones básicas para algoritmos de procesamiento digital de señales y _machine learning_. En particular para este apéndice usaremos únicamente los tipos de datos básicos \"**AC Datatypes**\"."
   ]
  },
  {
   "cell_type": "markdown",
   "metadata": {},
   "source": [
    "A continuación se ilustra como usar HSL-Lib para implementar un filtro FIR en C algorítmico usando punto fijo. \n",
    "\n",
    "En el Capítulo 6 se explicó lo que era la representación en punto y cómo reescribir un algoritmo en lenguaje C para correrlo en software. A continuación se mostrará cómo usar el punto fijo y librería HSL-Lib para crear una filtro FIR sintetizable en hardware. \n",
    "\n",
    "Si usa la biblioteca AC Datatypes de HSL-Lib para punto fijo, basta con incluir la siguiente librería en su programa en C:\n",
    "\n",
    "```C\n",
    "#include <ac_fixed.h>\n",
    "```\n",
    "\n",
    "y cambiar todos las declaraciones de variables por el tipo de dato\n",
    "\n",
    "```C\n",
    "ac_fixed<W, I, S, Q, O>\n",
    "```\n",
    "\n",
    "donde \n",
    "\n",
    "* ``W`` indica el número total de bits de la variable\n",
    "* ``I`` es el número de bits de la parte entera\n",
    "* ``S`` toma los valores ``true`` o ``false`` indicando si la variable es una representación con signo o sin signo, respectivamente\n",
    "* ``Q`` indica la forma de cómo se cuantizarán los datos cuando a la variable se le asigna un valor flotante, lo cual puede hacerse truncando los bits ``AC_TRN`` o con redondeo ``AC_RND``\n",
    "* ``O`` indica como se manejará el desborde (_overflow_) durante las operaciones, que puede ser ``AC_WRAP`` donde se descartan los bits superiores o ``AC_SAT`` donde el resultado se satura a la representación máxima que soporte la variable, o ``AC_SAT_ZERO`` donde en caso de presentarse saturación el resultado es cero."
   ]
  },
  {
   "cell_type": "markdown",
   "metadata": {},
   "source": [
    "Para escribir el programa en C algorítmico partimos del filtro de referencia en punto flotante:\n",
    "\n",
    "![FIR-SIMD](../img/ape_fir_basecode.png)\n",
    " \n",
    "La señal de entrada, ``x[n]``, se asume en el rango de excursión entre -1 y 1, por lo tanto, si se va a almacenar en 16bits, el tipo de dato debe ser $Q(1,0,15)$.  Por esta razón, en la línea 2 se cambia la definición por un tipo de dato que satisfaga esta especificación:\n",
    "\n",
    "```C\n",
    "ac_fixed<16,0,true,AC_RND,AC_SAT>\n",
    "```\n",
    "\n",
    "De esta forma, ``x`` será un vector con la representación $Q(1,0,15)$ donde se incluye control de _overflow_ por saturación y redondeo en caso de que se le asignen valores flotantes.\n",
    "\n",
    "Como se explicó en el Capítulo 6, para los coeficientes se debe estimar el valor máximo que alcanzaría la salida en el peor de los casos, es decir, estimar ``y`` cuando la señal de entrada toma los valores 1, lo cual se puede estimar a través de:\n",
    "\n",
    "$$ max = \\sum_{k=0}^{N_{h}-1}|h[k]|$$\n",
    "\n",
    "Si $max<1$, los coeficientes se pueden asociar a un número de punto fijo $Q(1,0,15)$, en caso contrario, hay que determinar el número de bits de la parte entera para evitar desborde. Por ejemplo, si $max=2.71$ significa que son necesarios dos bits para la parte entera, así que si los coeficientes se almacenan en punto fijo de 16bits, ``h[n]`` debe declararse como $Q(1,2,13)$. Una forma matemática de calcular el número de bits de la parte entera es usar el logaritmo en base dos del redondeo por encima de $max$.\n",
    "\n",
    "Ahora, una vez determinado el tipo de dato de punto fijo para ``x`` y ``h``, es necesario declarar el tipo de dato para ``y`` (línea 7).  Es claro que ``y`` debe ser de 32 bits como mínimo dado a que ``x`` y ``h`` son de 16bits y el producto en la línea 10 genera un dato de 32bits. Aquí se aplican las reglas de multiplicación en punto fijo, es decir, si el número de bits de la parte fraccional de ``y`` será la suma del número de bits de la parte fraccional de ``x`` y ``h``. \n",
    "\n",
    "Por ejemplo, si ``x`` y ``h`` se declararon como:\n",
    "\n",
    "```C\n",
    "ac_fixed<16,2,true,AC_RND,AC_SAT> hn[Q] = { ... };\n",
    "ac_fixed<16,0,true,AC_RND,AC_SAT> x[Q];\n",
    "```\n",
    "\n",
    "``h`` tiene 13 bits en la parte fraccionaria, ``x``, 15 bits, entonces se declara ``y`` como:\n",
    "\n",
    "```C\n",
    "ac_fixed<32,3,true,AC_RND,AC_SAT> y = 0;\n",
    "```\n",
    "\n",
    "Esta es la configuración inicial de ``y``. Realmente se puede jugar con diferentes combinaciones, por ejemplo, incluir más bits de guarda, más bits en la parte fraccionaria, todo esto es posible explorarlo usando C algorítmico.`\n",
    "\n",
    "Para finalizar la implementación, es necesario que la función retorne un valor ``y`` en el rango que espera la solución final en punto fijo. Si el dato de entrada es de 16 bits en formato $Q(1,0,15)$ una primera aproximación es asumir que el dato de salida sea en el mismo formato. Esto quizás no sea cierto en algunas aplicaciones que amplifican la señal de salida. Si hay amplificación, debe explorar usando más bits en la parte entera para la definición de la señal de salida. Esto se hace cambiando la línea 15 por:\n",
    "\n",
    "```C\n",
    "ac_fixed<16,0,true,AC_RND,AC_SAT> yt = y;\n",
    "```\n",
    "\n",
    "Ahora, si la función está embebida en un algoritmo que soporta como entrada y salida datos en flotante \n",
    "\n",
    "```C\n",
    "double filtrar(double xn)\n",
    "```\n",
    "\n",
    "y no puede ser alterada, es necesario que el valor almacenado en yt se convierta a flotante, para ello la modificación a la línea 15 serán las siguientes líneas:\n",
    "\n",
    "```C\n",
    "ac_fixed<16,0,true,AC_RND,AC_SAT> yt = y;\n",
    "return yt.to_double();\n",
    "```"
   ]
  },
  {
   "cell_type": "markdown",
   "metadata": {},
   "source": [
    "La re-escritura del filtro original en C algoritmo usando HLS-Lib lucirá entonces como:"
   ]
  },
  {
   "cell_type": "markdown",
   "metadata": {},
   "source": [
    "```C\n",
    "#include \"ac_fixed.h\"\n",
    "\n",
    "#define Q 401\n",
    "\n",
    "//Coeficientes\n",
    "const ac_fixed<16,1,true> hn[] = {\n",
    "\t -0.000000, \n",
    "\t -0.000013,\n",
    "\t ...\n",
    "};\n",
    "\n",
    "//Elementos de retardo de la entrada\n",
    "ac_fixed<16,0,true,AC_RND,AC_SAT> x[Q];\n",
    "\n",
    "double filtrar(double xn)\n",
    "{\t\n",
    "\tint k;\n",
    "\tac_fixed<32,2,true,AC_RND,AC_SAT> y = 0;\n",
    "\tx[0] = xn;\n",
    "\tfor(k=0;k<Q;k++) {\n",
    "\t\ty += x[k]*hn[k];\n",
    "\t}\n",
    "\tfor(k=Q-1;k>0;k--) {\n",
    "\t\tx[k] = x[k-1];\n",
    "\t}\n",
    "    ac_fixed<16,2,true,AC_RND,AC_SAT> yt = y;\n",
    "    return yt.to_double();\n",
    "}\n",
    "```"
   ]
  },
  {
   "cell_type": "markdown",
   "metadata": {},
   "source": [
    "Nótese que en esta implementación no fue necesario alterar las líneas de código que hacían las operaciones en punto flotante, solamente es necesario cambiar la declaración de las variables. Asimismo, al vector de coeficientes se le asignan directamente los valores en punto flotante y no es necesario hacerle un cuantización de manera manual. Esto simplifica muchísimo la prueba y depuración de algoritmos en punto fijo y permite obtener soluciones finales que pueden ser finalmente sintetizadas en hardware.\n",
    "\n",
    "Este algoritmo puede ser probado en cualquier compilador de C, usando las librerías descargadas de https://hlslibs.org/. Sin embargo, estas librerías no deberían ser usadas para hacer implementaciones en software en tiempo real pues aumentan el tiempo de ejecución.\n",
    "\n",
    "Para la síntesis en hardware de estas definiciones en C algorítmico requiere contar con licencias de un compilador HLS."
   ]
  }
 ],
 "metadata": {
  "kernelspec": {
   "display_name": "Python 3",
   "language": "python",
   "name": "python3"
  },
  "language_info": {
   "name": "python",
   "version": "3.12.5"
  }
 },
 "nbformat": 4,
 "nbformat_minor": 2
}
