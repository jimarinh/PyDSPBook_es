{
 "cells": [
  {
   "cell_type": "markdown",
   "metadata": {},
   "source": [
    "# 11. Procesamiento de Tasa Múltiple"
   ]
  },
  {
   "cell_type": "markdown",
   "metadata": {},
   "source": [
    "Hasta este punto se han discutido diferentes técnicas de procesamiento de señales en las que se asume una única frecuencia de muestreo. Además, gran parte de las técnicas presentadas se basan en filtrado digital o sistemas LTI, con los cuales se modifica la ganancia o se suprimen componentes de frecuencia de la señal de entrada, pero no se generan nuevas componentes de frecuencia. En ese capítulo se estudiarán diferentes técnicas de procesamiento de señales que hacen uso de múltiples tasas de muestreo, y por ende, en el procesamiento de la señal, es posible generar componentes de frecuencia inexistentes en la señal de entrada. \n",
    "\n",
    "Estas técnicas tienen una gran variedad de aplicaciones, entre las cuales se destacan: cambio de la frecuencia de muestreo por software; construcción de filtros de banda angosta; construcción de sistemas de comunicación tales como moduladores, demoduladores y codificadores, usados en radio definida por software (SDR); implementación de técnicas de acceso al medio como espectro esparcido (_spread spectrum_); compresión con pérdidas de señales de audio e imágenes, tales como los algoritmos MPEG y JPEG2000. \n",
    "\n",
    "Para llevar a cabo dicho procesamiento, se introducen en este capítulo dos operaciones básicas de procesamiento de señales, el **diezmado** y la **interpolación** que permiten disminuir y aumentar, respectivamente, la frecuencia de muestreo de una señal, lo cual conlleva a un efecto de expansión y compresión del espectro, y son la base para la construcción de sistemas más complejos."
   ]
  },
  {
   "cell_type": "markdown",
   "metadata": {},
   "source": [
    "## 11.1 Diezmado"
   ]
  },
  {
   "cell_type": "markdown",
   "metadata": {},
   "source": [
    "En el tiempo, el efecto del **diezmado** es quitar $D-1$ muestras intermedias como se muestra en la siguiente figura\n",
    "\n",
    "![Diezmado en el dominio del tiempo](../img/cap12_downsamp_time.png)\n",
    "\n",
    "Lo que equivale a una relación entrada/salida de la forma:\n",
    "\n",
    "$$y[m]=x[mD]$$\n",
    "\n",
    "En la ecuación anterior, se usa el índice de tiempo $n$ para la señal de entrada $x[n]$, y $m$ para las señal de salida $y[m]$. Se usa diferente índice de tiempo porque ambas señales tienen frecuencias de muestreo diferentes. Esta relación de entrada/salida hace que el diezmado sea un sistema lineal variante en el tiempo. \n",
    "\n",
    "Para analizar el efecto del diezmado en la frecuencia, asumamos que la frecuencia muestreo (en Hertz) de la señal de entrada es $f_{in}$ y la de la señal de salida $f_{out}$. Dado que se hace uso de diferentes frecuencias de muestreo, implica que se requieran dos diferentes conjuntos de frecuencias normalizadas, una para la señal de entrada, $\\Omega_{in}$, y otra para la señal de salida, $\\Omega_{out}$. Por el efecto de eliminación de muestras, es de esperarse que la frecuencia de muestro de la salida sea menor que la de la entrada, por lo que las frecuencias de muestreo y las frecuencias normalizadas están relacionadas por medio de\n",
    "\n",
    "$$f_{out}\t=\t\\frac{f_{in}}{D}$$\n",
    "$$\\Omega_{out}\t=\tD\\Omega_{in}$$"
   ]
  },
  {
   "cell_type": "markdown",
   "metadata": {},
   "source": [
    "Se puede demostrar que el efecto del diezmado en la frecuencia es equivalente a multiplicar la señal de entrada por un tren de impulsos de periodo $D$ muestras, lo que conduce a la siguiente expresión del espectro de la señal de salida, en términos de la frecuencia normalizada de la señal de entrada\n",
    "\n",
    "$$Y(\\Omega_{in})=\\sum_{k=0}^{D-1}X\\left(\\Omega_{in}-\\frac{2\\pi k}{D}\\right)$$\n",
    "\n",
    "En la siguiente figura se muestra el efecto del diezmado por $D=2$ sobre el espectro de la señal de entrada.\n",
    "\n",
    "![Diezmado en el dominio de la frecuencia](../img/cap12_downsamp_freq.png)\n",
    "\n",
    "Nótese que en el espectro de la señal de salida, en el cual el eje de frecuencia se ha normalizado a la frecuencia de muestreo de entrada, aparece una réplica del espectro de la señal de entrada alrededor de $\\Omega_{in}=\\pi$ (cuando $k=1$). Sin embargo, en el dominio de la frecuencia normalizada a la frecuencia de muestreo de salida, el valor $\\Omega_{in}=\\pi$ se mapea como $\\Omega_{out}=2\\pi$, por lo que el espectro visto a esta frecuencia normalizada ha sufrido una expansión (figura inferior), que equivale a hacer una operación de magnificación sobre el espectro de la señal de entrada. Es importante anotar que esta expansión solamente es en términos de la frecuencia normalizada, pues $\\Omega_{in}=\\pi$ y $\\Omega_{out}=2\\pi$ corresponden a la misma frecuencia en Hertz.\n",
    "\n",
    "El análisis anterior permite detectar una limitante del diezmado. Sí el espectro de la señal de entrada tuviera componentes de frecuencias por encima de $\\Omega_{in}=\\pi/2$, se produciría _aliasing_, pues la réplica centrada en $\\Omega_{in}=\\pi$ se traslaparía con la réplica alrededor de $\\Omega_{in}=0$. Por esta razón, un diezmado generalmente no se utiliza solo, sino que que va acompañado de un filtro, típicamente pasa-bajo, de frecuencia de corte $\\pi/D$ antes del diezmado como se muestra a continuación.\n",
    "\n",
    "![Diezmado real](../img/cap12_downsamp_real.png)"
   ]
  },
  {
   "cell_type": "markdown",
   "metadata": {},
   "source": [
    "## 11.2 Interpolación"
   ]
  },
  {
   "cell_type": "markdown",
   "metadata": {},
   "source": [
    "La operación complementaria al diezmado es la **interpolación**, puesto que su efecto en el tiempo es adicionar $I-1$ ceros intermedios como se muestra en la siguiente figura. \n",
    "\n",
    "![Interpolación en el dominio del tiempo](../img/cap12_interp_time.png)\n",
    "\n",
    "Lo anterior equivale a la siguiente relación de entrada/salida:\n",
    "\n",
    "$$y[m]=x\\left[\\frac{m}{I}\\right]$$\n",
    "\n",
    "Al igual que el diezmado, la interpolación es un sistema lineal y variante en el tiempo. La relación entre las frecuencia muestreo de entrada, $f_{in}$, y salida, $f_{out}$, y las frecuencias normalizadas de entrada, $\\Omega_{in}$, y salida, $\\Omega_{out}$, están dadas por:\n",
    "\n",
    "$$f_{out}\t=\tIf_{in}$$\n",
    "$$\\Omega_{out}\t=\t\\frac{\\Omega_{in}}{I}$$\n",
    "\n",
    "Se puede demostrar que el efecto sobre la frecuencia de la interpolación es la compresión del espectro como se muestra a continuación, lo que se representa matemáticamente por medio de $$Y(\\Omega_{out})=X(I\\Omega_{out})$$\n",
    "\n",
    "![Interpolación en el dominio de la frecuencia](../img/cap12_interp_freq.png)\n",
    "\n",
    "En la figura anterior se muestra como el efecto de la interpolación para $I=2$, sobre espectro de la señal de entrada, es mapear las frecuencias normalizadas de entrada $\\Omega_{in}$ en las de salida $\\Omega_{out}$. Por ejemplo, la frecuencia $\\Omega_{in}=2\\pi$ se mapea como $\\Omega_{out}=\\pi$ tal como se ilustra en la figura de abajo, es decir, se produce un efecto de compresión del espectro. Al igual que en el diezmado, la interpolación tiene la limitante de que aparecen componentes de frecuencia inexistentes en la entrada. \n",
    "\n",
    "Nótese que en el espectro de salida aparece una réplica alrededor de $\\Omega_{out}=\\pi$. Por lo tanto, para eliminar dicha réplica, y recuperar el espectro original, se hace necesario colocar un filtro pasa-bajo de frecuencia de corte $\\pi/I$ a la salida de la interpolación. Este filtro tiene como función recuperar el espectro original y generar las muestras intermedias, ya que el interpolador adiciona sólo ceros intermedios. En la siguiente figura se muestra la forma como se realiza la interpolación en la práctica y se aprecia claramente el efecto de compresión del espectro de entrada.\n",
    "\n",
    "![Interpolación real](../img/cap12_interp_real.png)"
   ]
  },
  {
   "cell_type": "markdown",
   "metadata": {},
   "source": [
    "#### Para Reflexionar\n",
    "\n",
    "* Suponga que el diezmado se hace por un factor de dos ($D=2$). Si en lugar de usar un filtro pasa-bajo se usa un filtro pasa-alto de frecuencia de corte $\\Omega_{c} = \\pi/2$, ¿Qué forma tendrá el espectro de salida del conjunto filtro-diezmado?.\n",
    "\n",
    "* Suponga que una señal tiene un contenido de frecuencia en el rango $[0,\\pi/10]$. Si el factor de interpolación de dicha señal se escoge para ser $I=10$ y en lugar de usar un filtro pasa-bajo a la salida se emplea un filtro pasa-banda cuidadosamente diseñado para seleccionar una réplica del espectro de entrada. ¿Qué aplicación práctica podría tener este sistema?  "
   ]
  },
  {
   "cell_type": "markdown",
   "metadata": {},
   "source": [
    "## 11.3 Algoritmos de Implementación para Diezmado e Interpolación"
   ]
  },
  {
   "cell_type": "markdown",
   "metadata": {},
   "source": [
    "Como se ilustró en las secciones anteriores, el diezmado y la interpolación requieren de filtros a la entrada y salida, respectivamente, para producir el efecto de expansión y compresión del espectro de la señal de entrada. Sí la implementación de estos sistemas se realiza tal y como lo sugieren los diagramas de bloques mostrados en las secciones anteriores, se requiere una alta capacidad de cómputo. Por ejemplo, para el caso de la interpolación, el filtro está ubicado a la salida, lo que significa que dicho filtrado se hace a una alta tasa de muestreo. Similar ocurre con el filtro a la entrada del diezmado. Por esta razón, existen diferentes estructuras para la implementación de estos bloques funcionales empleando operaciones a una baja tasa de muestreo. Los métodos más eficientes y simples son la **estructura polifase** y los filtros **CIC** (_Cascaded Integrator Comb_)."
   ]
  },
  {
   "cell_type": "markdown",
   "metadata": {},
   "source": [
    "### 11.3.1 Filtros polifase"
   ]
  },
  {
   "cell_type": "markdown",
   "metadata": {},
   "source": [
    "La estructura **polifase** se basa en que una señal se puede descomponer en la suma de señales desplazadas o equivalentemente, señales con “diferente fase”. Por ejemplo, supongamos que vamos a implementar un interpolador de orden $I=3$. El filtro ubicado a la salida del interpolador es un FIR calculado mediante la sumatoria de convolución:\n",
    "\n",
    "$$y[n]=x[n]\\star h[n]=\\sum_{k=0}^{N-1}h[k]x[n-k]=h[0]x[n]+h[1]x[n-1]+...+h[N-1]h[n-(N-1)]$$\n",
    "\n",
    "Suponiendo $N=9$, la transformada z de la ecuación anterior nos conduce a \n",
    "\n",
    "$$Y(z)\t=\th[0]X(z)+h[1]z^{-1}X(z)+h[2]z^{-2}X(z)+...$$\n",
    "$$\t\th[3]z^{-3}X(z)+h[4]z^{-4}X(z)+h[5]z^{-5}X(z)+...$$\n",
    "$$\t\th[6]z^{-6}X(z)+h[7]z^{-7}X(z)+h[8]z^{-8}X(z)$$\n",
    "\t\t\n",
    "reagrupando términos, \n",
    "\n",
    "$$Y(z)\t=\tX(z)\\left\\{ h[0]+h[3]z^{-3}+h[6]z^{-6}\\right\\} +...$$\n",
    "$$\t\tz^{-1}X(z)\\left\\{ h[1]+h[4]z^{-3}+h[7]z^{-6}\\right\\} +...$$\n",
    "$$\t\tz^{-2}X(z)\\left\\{ h[2]+h[5]z^{-3}+h[8]z^{-6}\\right\\}$$\n",
    "\t\t\n",
    "Lo anterior indica que el filtro $h$, de longitud $N=9$, para una tasa de muestreo 3 veces más baja, se puede descomponer en 3 filtros de segundo orden, cuyas funciones de transferencia son:\n",
    "\n",
    "$$H^{(0)}(z)\t=\th[0]+h[3]z^{-1}+h[6]z^{-2}$$\n",
    "$$H^{(1)}(z)\t=\th[1]+h[4]z^{-1}+h[7]z^{-2}$$\n",
    "$$H^{(2)}(z)\t=\th[2]+h[5]z^{-1}+h[8]z^{-2}$$\n",
    "\n",
    "Se puede demostrar, haciendo uso de la representación polifase, que la interpolación para $I=3$ tiene la estructura mostrada en la siguiente figura. \n",
    "\n",
    "![Interpolación polifase](../img/cap12_interp_polyphase.png)\n",
    "\n",
    "Se debe recordar que en un interpolador de tres muestras, por cada muestra de entrada se deben generar tres muestras de salida. En la figura se aprecia que cuando ingresa una muestra a la entrada, se calculan en paralelo los tres filtros polifase, a una baja tasa de muestreo, y las tres muestras esperadas a la salida son entonces las salidas instantáneas de los tres filtros, escritas en forma secuencial como muestra la llave selectora del diagrama. \n",
    "\n",
    "En general, para cualquier factor de diezmado o interpolación, los filtros polifase se pueden extraer del filtro original a través de:\n",
    "\n",
    "$$h^{(j)}[n]=h[nI+j]$$\n",
    "\n",
    "Para el diezmado, la estructura de implementación polifase tiene la forma mostrada en la siguiente figura.\n",
    "\n",
    "![Diezmado polifase](../img/cap12_downsamp_polyphase.png)"
   ]
  },
  {
   "cell_type": "markdown",
   "metadata": {},
   "source": [
    "#### Ejemplo 11.1"
   ]
  },
  {
   "cell_type": "markdown",
   "metadata": {},
   "source": [
    "La implementación del diezmado e interpolación usando filtros polifase se encuentra disponible en Python con la función ``sig.resample_poly(x, up, down)``, donde ``up`` y ``down`` son valores enteros que denotan el factor de interpolación y diezmado, respectivamente. En el siguiente ejemplo, se muestra como usar esta función para realizar el diezmado e interpolación de una señal."
   ]
  },
  {
   "cell_type": "code",
   "execution_count": 1,
   "metadata": {},
   "outputs": [
    {
     "data": {
      "image/png": "[encoded data removed]",
      "text/plain": [
       "<Figure size 640x480 with 3 Axes>"
      ]
     },
     "metadata": {},
     "output_type": "display_data"
    }
   ],
   "source": [
    "# Ejemplo 11.1. Diezamado e Interpolación en Python.\n",
    "\n",
    "import numpy as np\n",
    "import scipy.signal as sig\n",
    "import matplotlib.pyplot as plt\n",
    "\n",
    "#Carga una señal de ejemplo\n",
    "senal_ecg = np.load('..\\Seccion_4_Transformadas\\senal_ecg.npy')\n",
    "x = senal_ecg[150:400,1]\n",
    "\n",
    "#Interpolación por factor de 3\n",
    "xI = sig.resample_poly(x,3,1) \n",
    "\n",
    "#Diezmado por factor de 3\n",
    "xD = sig.resample_poly(x,1,3)\n",
    "\n",
    "#Grafica los resultados\n",
    "fig, axs = plt.subplots(3,1, layout='constrained')\n",
    "axs[0].stem(x, markerfmt='.')\n",
    "axs[0].set_title('Señal original')\n",
    "axs[1].stem(xI, markerfmt='.')\n",
    "axs[1].set_title('Interpolación por 3')\n",
    "axs[2].stem(xD, markerfmt='.')\n",
    "axs[2].set_title('Diezmado por 3')\n",
    "axs[2].set_xlabel('Tiempo [n]')\n",
    "plt.show()"
   ]
  },
  {
   "cell_type": "markdown",
   "metadata": {},
   "source": [
    "#### Ejemplo 11.2"
   ]
  },
  {
   "cell_type": "markdown",
   "metadata": {},
   "source": [
    "En este ejemplo se mostrará como implementar en lenguaje C un interpolador de orden $I=3$ bajo el esquema de procesamiento orientado a bloques.\n",
    "\n",
    "Primero que todo se debe recordar que un interpolador (o diezmador) de orden I debe estar acompañado de un filtro pasa-bajo de frecuencia de corte $\\pi/I$. Para la implementación polifase, lo más conveniente es que la longitud de la respuesta al impulso de dicho filtro sea múltiplo de $I$, por consiguiente, si queremos que cada filtro polifase tenga una longitud de 11 coeficientes, el filtro pasa-bajo se diseñará con $N_{h}=11\\times3=33$ coeficientes. El cálculo de los coeficientes del filtro se puede hacer empleando alguna de los métodos descritos en el capítulo de diseño de filtros FIR."
   ]
  },
  {
   "cell_type": "code",
   "execution_count": null,
   "metadata": {},
   "outputs": [],
   "source": [
    "## Ejemplo 11.2. Diseño de un filtro polifase para interpolación o diezmado\n",
    "import numpy as np\n",
    "import scipy.signal as sig\n",
    "\n",
    "I = 3   #Factor de interpolación\n",
    "n = np.arange(-16,17)\n",
    "hn = (1/I)*np.sinc(n/I) * np.hamming(len(n))\n",
    "\n",
    "#Exporta los coeficientes al archivo coeffs_poly.h\n",
    "with open('coeffs_poly.h', 'w') as file:\n",
    "    file.write(f'#define Nh {len(hn)}\\n')\n",
    "    file.write('const float h[] = {\\n')\n",
    "    for hsample in hn:\n",
    "        file.write(f\"\\t {hsample}, \\n\")\n",
    "    file.write('};\\n')\n",
    "    file.close()"
   ]
  },
  {
   "cell_type": "markdown",
   "metadata": {},
   "source": [
    "El algoritmo en lenguaje C que calcula el diagrama del interpolador polifase bajo el enfoque orientado a muestras se muestra a continuación."
   ]
  },
  {
   "cell_type": "code",
   "execution_count": null,
   "metadata": {
    "vscode": {
     "languageId": "javascript"
    }
   },
   "outputs": [],
   "source": [
    "void interpolador(\n",
    "    int lon,    //Longitud de la entrada\n",
    "    int lh,     //Longitud de la respuesta al impulso del filtro pasa-bajo\n",
    "    int ID,     //Factor de interpolación\n",
    "    float *hs,  //Coeficientes de la respuesta al impulso\n",
    "    float *entrada, //Entrada\n",
    "    float *salida   //Salida \n",
    ") {\n",
    "    int n, j, k, m;\n",
    "    float aux;\n",
    "    m=0;\n",
    "    for(n=0; n<lon; n++){\n",
    "        for(j=0; j<ID; j++){\n",
    "            aux=0.0;\n",
    "            for (k = 0; k < (lh / ID); k++) {\n",
    "                aux += entrada[n-k +(lh-1)] * hs[(ID * k) + j];\n",
    "            }\n",
    "            salida[m++] = aux;\n",
    "        }\n",
    "    }\n",
    "    for(n=0; n<lh-1; n++){\n",
    "        entrada[n]= entrada[lon+n];\n",
    "    }\n",
    "}"
   ]
  },
  {
   "cell_type": "markdown",
   "metadata": {},
   "source": [
    "### 11.3.2. Filtros CIC (_Cascaded Integrator-Comb_)"
   ]
  },
  {
   "cell_type": "markdown",
   "metadata": {},
   "source": [
    "El número de multiplicaciones que involucran los filtros pasa-bajo de frecuencia de corte $\\pi /D$ o $\\pi /I$, que se usan en conjunto con el interpolador y diezmador, se puede eliminar empleando los filtros CIC (_Cascaded Integrator-Comb_). A diferencia con los filtros polifase, los CIC no permiten personalizar el filtro, en su lugar, la respuesta en frecuencia de estos filtros depende del número de etapas en cascada.\n",
    "\n",
    "En un CIC se emplea un filtro de peine (_Comb_) en conjunto con un integrador de primer orden como se muestra en la siguiente figura para un diezmador e interpolador. El filtro de peine toma este nombre dado a que su respuesta en frecuencia tiene nulos que dan la apariencia de una forma de peine.\n",
    "\n",
    "![Diezmador e Interpolador CIC](../img/cap12_cic.png)\n",
    "\n",
    "El valor de $N$ se escoge típicamente 1 o 2 con el fin de garantizar una frecuencia de corte $\\pi /D$ o $\\pi /I$. Por otra parte, la respuesta en frecuencia se puede mejorar significativamente añadiendo múltiples etapas en cascada de la estructura básica CIC como se muestra en la siguiente figura para un diezmador.\n",
    "\n",
    "![Diezmador CIC multietapa](../img/cap12_downsamp_cic.png)\n",
    "\n",
    "Finalmente, cuando se emplea aritmética en punto fijo, el número de bits del filtro CIC se escoge para ser igual a \n",
    "\n",
    "$$nbits = nbits_{x}+\\lceil M log_{2}(N R)\\rceil$$\n",
    "\n",
    "donde $R$ es el factor de diezmado o interpolación, $N$ toma el valor de 1 o 2, $M$ es el número de etapas en cascada y $nbits_{x}$ es el número de bits de la señal de entrada. Por ejemplo, si $nbits_{x}=12$, $R=8$, $N=1$ y $M=3$, se deben usar $21$ bits para hacer los cálculos, por lo que simplemente basta con hacer una extensión de signo de 12 a 21 bits a la entrada como se muestra en la siguiente figura. Esta estructura es muy eficiente por lo cual es muy popular en la implementación en hardware de los diezmadores e interpolares.\n",
    "\n",
    "![Diezmador CIC en punto fijo](../img/cap12_downsamp_cic_fix.png)"
   ]
  },
  {
   "cell_type": "markdown",
   "metadata": {},
   "source": [
    "#### Para Reflexionar\n",
    "\n",
    "* Escriba el código en Python de un diezmador e interpolador CIC de tres etapas. \n",
    "\n",
    "Puede implementar el integrador y filtro de peine con la función ``sig.lfilter``. Para implementar el diezmador basta con quitar $D$ muestras intermedias, lo cual se puede hacer fácilmente con \n",
    "\n",
    "```Python \n",
    "m = np.arange(0,len(x),D)\n",
    "y = x[m]\n",
    "```\n",
    "\n",
    "Y para el interpolador puede añadir $I$ ceros intermedios con el código\n",
    "\n",
    "```Python \n",
    "y = np.zeros(len(x)*I)\n",
    "m = np.arange(0,len(y),I)\n",
    "y[m] = x\n",
    "```\n",
    "\n",
    "Estos principios se emplearon en el siguiente código suministrado a manera de plantilla, el cual debe complementar incluyendo el cálculo del integrador y filtro de peine con la función ``sig.lfilter``."
   ]
  },
  {
   "cell_type": "code",
   "execution_count": 2,
   "metadata": {},
   "outputs": [],
   "source": [
    "def integrator(x):\n",
    "    y = ...  #Ponga su código aquí\n",
    "    return y\n",
    "\n",
    "def comb(x):\n",
    "    y =  ... #Ponga su código aquí\n",
    "    return y\n",
    "\n",
    "def decimateCIC(x, D):\n",
    "    x1 = integrator(x)  #Integrador 1\n",
    "    x2 = integrator(x1) #Integrador 2\n",
    "    x3 = integrator(x2) #Integrador 3\n",
    "    #Diezmador\n",
    "    m = np.arange(0,len(x3),D)\n",
    "    y3 = x3[m]\n",
    "    y2 = comb(y3) #Peine 1\n",
    "    y1 = comb(y2) #Peine 2\n",
    "    y  = comb(y1) #Peine 3\n",
    "    return y\n",
    "\n",
    "def interpCIC(x, I):\n",
    "    x1 = comb(x)  #Peine 1\n",
    "    x2 = comb(x1) #Peine 2\n",
    "    x3 = comb(x2) #Peine 3\n",
    "    #Interpolador\n",
    "    y3 = np.zeros(len(x3)*I)\n",
    "    m = np.arange(0,len(y3),I)\n",
    "    y3[m] = x3\n",
    "    y2 = integrator(y3) #Integrador 1\n",
    "    y1 = integrator(y2) #Integrador 2\n",
    "    y  = integrator(y1) #Integrador 3\n",
    "    return y"
   ]
  },
  {
   "cell_type": "markdown",
   "metadata": {},
   "source": [
    "Finalmente, pruebe su implementación, usando el siguiente código ejemplo que replica los resultados del Ejemplo 11.1."
   ]
  },
  {
   "cell_type": "code",
   "execution_count": null,
   "metadata": {},
   "outputs": [],
   "source": [
    "import numpy as np\n",
    "import scipy.signal as sig\n",
    "import matplotlib.pyplot as plt\n",
    "\n",
    "#Carga una señal de ejemplo\n",
    "senal_ecg = np.load('..\\Seccion_4_Transformadas\\senal_ecg.npy')\n",
    "x = senal_ecg[150:400,1]\n",
    "\n",
    "#Interpolación por factor de 3 usando CIC\n",
    "xI = interpCIC(x,3,1) \n",
    "\n",
    "#Diezmado por factor de 3 usando CIC\n",
    "xD = decimateCIC(x,3)\n",
    "\n",
    "#Grafica los resultados\n",
    "fig, axs = plt.subplots(3,1, layout='constrained')\n",
    "axs[0].stem(x, markerfmt='.')\n",
    "axs[0].set_title('Señal original')\n",
    "axs[1].stem(xI, markerfmt='.')\n",
    "axs[1].set_title('Interpolación por 3')\n",
    "axs[2].stem(xD, markerfmt='.')\n",
    "axs[2].set_title('Diezmado por 3')\n",
    "axs[2].set_xlabel('Tiempo [n]')\n",
    "plt.show()"
   ]
  },
  {
   "cell_type": "markdown",
   "metadata": {},
   "source": [
    "## 11.4 Aplicaciones"
   ]
  },
  {
   "cell_type": "markdown",
   "metadata": {},
   "source": [
    "Como se comentó al inicio de este capítulo, las estructuras de diezmado e interpolación no solamente son útiles para modificar la tasa de muestreo, sino que permiten también implementar algunas interesantes aplicaciones que se serán abordadas en esta sección. "
   ]
  },
  {
   "cell_type": "markdown",
   "metadata": {},
   "source": [
    "### 11.4.1 Cambio de la Frecuencia de Muestreo a un Valor no Entero"
   ]
  },
  {
   "cell_type": "markdown",
   "metadata": {},
   "source": [
    "Como se mostró anteriormente, el diezmado y la interpolación permiten modificar la tasa de muestreo a un factor entero. Sin embargo, si se quiere modificar la frecuencia de muestreo a un factor no entero, de la forma $f_{out}=f_{in}\\frac{I}{D}$, se debe emplear un interpolador y diezmador en cascada. Con el fin de reducir la complejidad de los filtros del interpolador y diezmador que acompañan dichas operaciones, se prefiere combinar ambos filtros en uno solo. En cuyo caso se diseña un único filtro pasa-bajo de frecuencia de corte $$\\Omega_{c}=min\\left\\{ \\frac{\\pi}{D},\\frac{\\pi}{I}\\right\\}$$ como se ilustra en el siguiente diagrama de bloques.\n",
    "\n",
    "![Diagrama de bloques para cambiar la frecuencia de muestreo](../img/cap12_app_fs_change.png)\n",
    "\n",
    "Este diagrama está implementado en la función de Python ``sig.resample_poly(x, up, down)`` donde ``up`` y ``down`` son valores enteros que denotan el factor de interpolación y diezmado, respectivamente."
   ]
  },
  {
   "cell_type": "markdown",
   "metadata": {},
   "source": [
    "### 11.4.2 Desplazador de Fase no Entera"
   ]
  },
  {
   "cell_type": "markdown",
   "metadata": {},
   "source": [
    "Es sabido que un elemento de retardo $z^{-k}$ introduce un desplazamiento de la señal de entrada, en un factor de $k$ muestras enteras.Sí se requiere un desplazamiento no entero de la forma $z^{-k/I}$, es posible implementarlo haciendo uso de un interpolador por factor $I$, seguido de un desplazador de fase entera $z^{-k}$, y para regresar a la tasa de muestro original, se aplica un diezmador por el mismo factor $I$. Este esquema, que incluye el filtro antialias en el diezmador, se muestra en la siguiente figura.\n",
    "\n",
    "![Diagrama de bloques de un desplazador de fase no entera](../img/cap12_app_phase_shift.png)"
   ]
  },
  {
   "cell_type": "markdown",
   "metadata": {},
   "source": [
    "### 11.4.3 Filtros de Banda Angosta"
   ]
  },
  {
   "cell_type": "markdown",
   "metadata": {},
   "source": [
    "Una de las principales aplicaciones del procesamiento de tasa múltiple es la implementación de filtros de banda angosta. Como se estudió en el Capítulo 4, el diseño de un filtro FIR de banda angosta requiere un elevado número de coeficientes, lo cual lo hace impráctico de implementar en ciertos sistemas. Dado a que un filtro de banda angosta puede ser el resultado de emplear una alta tasa de muestreo, es viable considerar la reducción de la tasa de muestreo, haciendo uso de diferentes etapas de diezmado como se muestra en la siguiente figura, con el fin de reducir considerablemente el número de operaciones necesarias para implementar el filtro. \n",
    "\n",
    "![Diagrama de bloques de un filtro de banda angosta](../img/cap12_app_narrowband_filt.png)\n",
    "\n",
    "En esta estructura, las etapas de diezmado producen un efecto de magnificación (_zoom-in_) al espectro de entrada, debido al efecto de expansión del espectro, mientras que las etapas de interpolación de salida realizan un efecto de minimización (_zoom-out_), con el fin de comprimir el espectro para regresar a la tasa de muestreo original. Este efecto se explica mejor en la siguiente figura, en la que las etapas de diezmado intermedias han sido escogidas a $D_{1}=3$ y $D_{2}=2$. \n",
    "\n",
    "![Espectros en frecuencia en diferentes etapas de un filtro de banda angosta](../img/cap12_app_narrowband_filt_freq.png)\n",
    "\n",
    "Suponga que el espectro de la señal de entrada es el mostrado en la parte superior de la figura, en color negro, y la respuesta en frecuencia del filtro pasa-banda angosto es el mostrado en color azul. Para la primera etapa de diezmado se requiere un filtro pasa-bajo de frecuencia de corte $\\Omega_{1}=\\pi/D_{1}=\\pi/3$, por lo que después del diezmador, el espectro se ensancha de la forma mostrada en la figura del centro, en color negro. \n",
    "\n",
    "Al aplicar una nueva etapa de diezmado se debe emplear un nuevo filtro pasa-bajo de frecuencia de corte $\\Omega_{2}=\\pi/D_{2}=\\pi/2$. El efecto de este filtro es limitar el espectro de entrada como se muestra en la figura intermedia en color rojo. Finalmente, por efecto del diezmador, el espectro a la salida del filtro se ensancha como se muestra en la figura inferior, en color negro.\n",
    "\n",
    "Nótese que para esta última frecuencia de muestreo, el filtro pasa-banda angosto se puede visualizar como un filtro pasa-banda más ancho (línea en azul). Las especificaciones en frecuencia de este último filtro son las que se consideran para el diseño del filtro de kernel y su longitud es muchísimo más corta que si se hiciera en la frecuencia de muestreo original."
   ]
  },
  {
   "cell_type": "markdown",
   "metadata": {},
   "source": [
    "#### Ejemplo 11.3"
   ]
  },
  {
   "cell_type": "markdown",
   "metadata": {},
   "source": [
    "En este ejemplo veremos como implementar un filtro pasa-banda de frecuencia central 3kHz y ancho de banda 800Hz, para filtrar señales muestreadas a una tasa de muestreo de 100kHz. \n",
    "\n",
    "Nótese que sí se diseñara un filtro pasa-banda FIR a la tasa de muestreo de 100kHz, las especificaciones de dicho filtro serían las de un filtro de banda angosta: \n",
    "\n",
    "$$\\Omega_{c}=2\\pi\\times3kHz/100kHz=0.06\\pi$$\n",
    "$$\\Omega_{BW}=2\\pi\\times800/100kHz=0.016\\pi$$\n",
    "\n",
    "Inicialmente emplearemos ventana de Kaiser para estimar el número de coeficientes apropiados para realizar el filtrado en una única etapa. Para este caso asumimos un nivel de rizado de $\\delta=0.05\\%$ y un ancho de la banda de transición de $30Hz$. Con estas especificaciones, empleando las ecuaciones de la ventana de Kaiser, \n",
    "\n",
    "$$A=-20log_{10}(\\delta)=66dB$$\n",
    "$$\\beta=0.1102(A-8.7)=6.314$$\n",
    "\n",
    "Dado que $\\Delta=30Hz/100kHz=3\\times10^{-4}$, tenemos que \n",
    "\n",
    "$$N_{h}=\\frac{A-7.95}{28.72\\Delta}=6737$$\n",
    "\n",
    "Lo cual es un número elevado de coeficientes para el filtro.\n",
    "\n",
    "Si asumimos el esquema de filtrado usando varias etapas de diezmado e interpolación, es posible reducir considerablemente el número de coeficientes como veremos a continuación. Al tomar, $D_{1}=3$ y $D_{2}=2$ como se ilustró anteriormente, tenemos que la frecuencia de muestreo para implementar el filtro de kernel será \n",
    "\n",
    "$$f_{s}/(D_{1}D_{2})=100kHz/6=16.7kHz$$\n",
    "\n",
    "Luego, usando las mismas especificaciones para la ventana de Kaiser, el número de coeficientes del filtro de kernel se reduce a $Nh=1123$, dado a que en este caso, $\\Delta=30Hz/16.7kHz=0.0018$.\n",
    "\n",
    "La especificación en frecuencia para diseñar el filtro de kernel será entonces \n",
    "\n",
    "$$\\Omega_{c}=2\\pi\\times3kHz/16.7kHz=0.36\\pi$$\n",
    "$$\\Omega_{BW}=2\\pi\\times800Hz/16.7kHz=0.096\\pi$$\n",
    "\n",
    "A continuación se muestra en Python como implementar el filtro empleando la función ``y = sig.resample_poly(x, up, down)`` para implementar en Python el diezmado e interpolación usando la estructura polifase. Para usar dicha función para diezmado se usa ``y = sig.resample_poly(x, 1, D)`` y para interpolación ``y = sig.resample_poly(x, I, 1)``, como se indicó en el Ejemplo 11.1."
   ]
  },
  {
   "cell_type": "code",
   "execution_count": null,
   "metadata": {},
   "outputs": [
    {
     "data": {
      "image/png": "[encoded data removed]",
      "text/plain": [
       "<Figure size 640x480 with 2 Axes>"
      ]
     },
     "metadata": {},
     "output_type": "display_data"
    }
   ],
   "source": [
    "## Ejemplo 11.3. Implementación de un filtro de banda angosta\n",
    "import numpy as np\n",
    "import matplotlib.pyplot as plt\n",
    "import scipy.signal as sig\n",
    "import scipy.io.wavfile as wav\n",
    "from scipy.fft import fft\n",
    "\n",
    "# Filtro kernel \n",
    "def kernelFilter(x2):\n",
    "    Nh = 1123\n",
    "    beta = 6.314 \n",
    "    Oc = 0.36*np.pi  #Frecuencia central \n",
    "    OBW = 0.096*np.pi #Ancho de banda \n",
    "    n = np.arange(-(Nh-1)/2, (Nh-1)/2+1) \n",
    "    hn = (OBW/np.pi)*np.sinc((OBW/(2*np.pi))*n) * np.cos(n*Oc) * np.kaiser(Nh,beta)\n",
    "    y2 = sig.lfilter(hn, 1, x2)\n",
    "    return y2\n",
    "\n",
    "#Grafica el espectro de la señal de entrada y salida en Hertz\n",
    "def plotSpectrum(x, y):\n",
    "    Xk = fft(x)\n",
    "    y = y[0:len(Xk)]\n",
    "    Yk = fft(y)\n",
    "    f  = np.linspace(0,fs,len(Xk)) \n",
    "    fig, axs = plt.subplots(2,1,layout='constrained')\n",
    "    axs[0].plot(f, np.abs(Xk)/len(Xk))\n",
    "    axs[0].set_title('Espectro de entrada')\n",
    "    axs[0].set_ylabel(r'Magnitud |X(f)|')\n",
    "    axs[0].set(xlim=(0,fs/2))\n",
    "    axs[0].grid()\n",
    "    axs[1].plot(f, np.abs(Yk)/len(Yk))\n",
    "    axs[1].set_title('Espectro de salida')\n",
    "    axs[1].set_xlabel(r'Frecuencia [f] (Hz)')\n",
    "    axs[1].set_ylabel(r'Magnitud |Y(f)|')\n",
    "    axs[1].set(xlim=(0,fs/2))\n",
    "    axs[1].grid()\n",
    "    plt.show()\n",
    "\n",
    "\n",
    "# Carga una señal muestreada a 100kHz\n",
    "fs, x = wav.read(\"wideband_signal.wav\")\n",
    "\n",
    "# Etapas de diezmado\n",
    "x1 = sig.resample_poly(x, 1, 3)\n",
    "x2 = sig.resample_poly(x1, 1, 2)\n",
    "\n",
    "# Filtro kernel \n",
    "y2 = kernelFilter(x2)\n",
    "\n",
    "# Etapas de interpolación \n",
    "y1 = sig.resample_poly(y2, 2, 1) \n",
    "y  = sig.resample_poly(y1, 3, 1) \n",
    "\n",
    "#Grafica el espectro de la señal de entrada y salida en Hertz\n",
    "plotSpectrum(x, y)"
   ]
  },
  {
   "cell_type": "markdown",
   "metadata": {},
   "source": [
    "### 11.4.4 Desplazamiento en Frecuencia a Banda Base"
   ]
  },
  {
   "cell_type": "markdown",
   "metadata": {},
   "source": [
    "El diezmado requiere un filtro pasa-bajo de frecuencia de corte $\\pi/D$ a la entrada con el fin de evitar _aliasing_. Si se relaja esta condición, eliminando dicho filtro o reemplazándolo por un filtro pasa-banda como se muestra en las siguientes figuras, es posible seleccionar un rango específico de frecuencias de entrada y producir un desplazamiento en frecuencia del espectro original. \n",
    "\n",
    "![Diagrama de bloques de un demodulador](../img/cap12_app_demod.png)\n",
    "\n",
    "Estas estructuras son muy utilizadas en radio definido por software (SDR) para implementar sistemas de demodulación a frecuencia base o frecuencias intermedias. La clave para el correcto funcionamiento de esta estructura es que la señal de entrada sea pasa-banda y de banda angosta, y su rango de frecuencia sea múltiplo del factor de diezmado, como se mostrará en el siguiente ejemplo. "
   ]
  },
  {
   "cell_type": "markdown",
   "metadata": {},
   "source": [
    "#### Ejemplo 11.4"
   ]
  },
  {
   "cell_type": "markdown",
   "metadata": {},
   "source": [
    "En este ejemplo se implementará un demodulador de amplitud que permita desplazar el espectro mostrado en la siguiente figura a banda base. \n",
    "\n",
    "![Espectros en diferentes puntos del demodulador de amplitud](../img/cap12_app_demod_freq.png)\n",
    "\n",
    "Dado a que el espectro de entrada es angosto podemos emplear la estructura de desplazamiento en frecuencia empleando un diezmado sin filtro pasa-bajo a la entrada.\n",
    "\n",
    "Se debe recordar que en el diezmado aparecen réplicas del espectro cada $2\\pi k/D$ como muestra la figura del centro. Luego si hacemos coincidir la frecuencia central del espectro de entrada, $\\Omega_{c}=5\\pi/8$, con dicha ecuación, tenemos que $5\\pi/8=2\\pi k/D$, lo que nos conduce a que $k=5$ y $D=16$. Esto indica que podemos usar diezmado por $D=16$ para demodular la señal de entrada como se muestra en la figura inferior. \n",
    "\n",
    "Nótese que esta estructura solamente funciona sí el ancho de banda de la señal de entrada es menor a $\\pi/D$ y la frecuencia central es múltiplo entero de $2\\pi/D$."
   ]
  },
  {
   "cell_type": "markdown",
   "metadata": {},
   "source": [
    "### 11.4.5 Bancos de Filtros Uniformes"
   ]
  },
  {
   "cell_type": "markdown",
   "metadata": {},
   "source": [
    "En aplicaciones de análisis de señales o implementación de sistemas de telecomunicaciones, es muy generalizado el uso de banco de filtros uniformes, es decir, filtros en paralelo que extraen la información de una región particular del espectro de entrada. Estos bancos de filtros se pueden implementar eficientemente empleando diezmado en configuración polifase, acompañados de una transformada discreta de Fourier (DFT), como se muestra en la siguiente figura.\n",
    "\n",
    "![Diagrama de bloques de un banco de filtros uniforme](../img/cap12_app_filterbank.png)\n",
    "\n",
    "El banco de filtros que permite extraer las diferentes bandas se denomina banco de filtros de análisis (izquierda) y el banco de filtros que mezcla las diferentes bandas para reconstruir el espectro original, se denomina banco de filtros de síntesis (derecha). En las estructuras mostradas en la figura, $h$ es la respuesta al impulso de los filtros polifase obtenidos a partir de un pasa-bajo de frecuencia de corte $\\pi/N$, donde $N$ es el número de bandas de descomposición. La demostración matemática de este banco de filtros se deja para consulta en las referencias.\n",
    "\n",
    "Nótese que en el banco de filtros de análisis, el espectro de la señal de entrada se parte en $N$ bandas uniformes ($N=4$ en este ejemplo), y el rango espectral de cada banda se expande en cada una de las salidas $y_{n}$. El efecto de este banco de filtros, será entonces no solo el análisis de cada banda individual sino que también sirve como un demultiplexor para señales multiplexadas en el frecuencia (FDM: _Frequency-division multiplexing_). \n",
    "\n",
    "Por otra parte, el banco de filtros de síntesis, toma $N$ espectros de entrada y los combina ubicando cada espectro de entrada alrededor de una diferente frecuencia central. Es decir, se comporta también como un sistema multiplexor por división en frecuencia FDM."
   ]
  },
  {
   "cell_type": "markdown",
   "metadata": {},
   "source": [
    "#### Para Reflexionar\n",
    "\n",
    "* Realice la implementación en Python de un desplazador de fase no entera.\n",
    "\n",
    "* Modifique el Ejemplo 11.3 para implementar un cambio de frecuencia de muestreo de la señal de 100kHz a 44100Hz.\n",
    "\n",
    "* Modifique el Ejemplo 11.3 para sustituir la función ``resample_poly`` por los filtros CIC que se plantearon en el reto indicado en la Sección 11.3.2. Es decir, una vez implemente las funciones ``decimateCIC`` y ``interpCIC``, corra el siguiente código para obtener los mismos resultados del Ejemplo 11.3. ¿Qué ventajas tendría esta modificación?."
   ]
  },
  {
   "cell_type": "code",
   "execution_count": null,
   "metadata": {},
   "outputs": [],
   "source": [
    "## Filtro de banda angosta usando filtros CIC\n",
    "\n",
    "# Carga una señal muestreada a 100kHz\n",
    "fs, x = wav.read(\"Seccion_7_Tasa_Multiple/wideband_signal.wav\")\n",
    "\n",
    "x = x.astype(np.float32)\n",
    "\n",
    "# Etapas de diezmado\n",
    "x1 = decimateCIC(x, 3)\n",
    "x2 = decimateCIC(x1, 2)\n",
    "\n",
    "# Filtro kernel \n",
    "y2 = kernelFilter(x2)\n",
    "\n",
    "# Etapas de interpolación \n",
    "y1 = interpCIC(y2, 2) \n",
    "y  = interpCIC(y1, 3) \n",
    "\n",
    "# Grafica el espectro de la señal de entrada y salida en Hertz\n",
    "plotSpectrum(x, y)"
   ]
  },
  {
   "cell_type": "markdown",
   "metadata": {},
   "source": [
    "\n",
    "\n",
    "* ¿Cómo implementaría el demodulador del ejemplo de la Sección 11.4.4 usando filtros CIC?\n",
    "\n",
    "* Una forma simple de hacer un encriptador es partir el espectro de una señal en $N$ segmentos e intercambiar dichas bandas. ¿Cómo construiría este encriptador usando bancos de filtros uniformes? "
   ]
  }
 ],
 "metadata": {
  "kernelspec": {
   "display_name": "Python 3",
   "language": "python",
   "name": "python3"
  },
  "language_info": {
   "codemirror_mode": {
    "name": "ipython",
    "version": 3
   },
   "file_extension": ".py",
   "mimetype": "text/x-python",
   "name": "python",
   "nbconvert_exporter": "python",
   "pygments_lexer": "ipython3",
   "version": "3.11.9"
  }
 },
 "nbformat": 4,
 "nbformat_minor": 2
}
